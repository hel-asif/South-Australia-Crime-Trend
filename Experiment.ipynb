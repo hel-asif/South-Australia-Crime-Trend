{
 "cells": [
  {
   "cell_type": "code",
   "execution_count": 69,
   "id": "0edf9fa7",
   "metadata": {},
   "outputs": [],
   "source": [
    "import numpy as np\n",
    "import matplotlib.pyplot as plt\n",
    "import pandas as pd"
   ]
  },
  {
   "cell_type": "code",
   "execution_count": 70,
   "id": "5e30be02",
   "metadata": {},
   "outputs": [],
   "source": [
    "df1011 = pd.read_csv('2010-11-data_sa_crime.csv')\n",
    "df1112 = pd.read_excel('2011-12-data_sa_crime.xlsx')\n",
    "df1213 = pd.read_csv('2012-13-data_sa_crime.csv')\n",
    "df1314 = pd.read_csv('2013-14-data_sa_crime.csv')\n",
    "df1415 = pd.read_csv('2014-15-data_sa_crime.csv')\n",
    "df1516 = pd.read_csv('2015-16-data_sa_crime.csv')\n",
    "df1617 = pd.read_csv('2016-17-data_sa_crime.csv')\n",
    "df1718 = pd.read_csv('2017-18-data_sa_crime.csv')\n",
    "df1819 = pd.read_csv('2018-19-data_sa_crime.csv')\n",
    "df1920 = pd.read_csv('2019-20-fullyr-data_sa_crime.csv')\n",
    "df2021 = pd.read_csv('2020-21_data_sa_crime.csv')\n",
    "df2122 = pd.read_csv('2021-22-data-sa-crime-q1-q4.csv')\n",
    "df22 = pd.read_csv('q1_2022-23_data_sa_crime.csv')"
   ]
  },
  {
   "cell_type": "code",
   "execution_count": 71,
   "id": "c7c2fe09",
   "metadata": {},
   "outputs": [
    {
     "name": "stdout",
     "output_type": "stream",
     "text": [
      "(105297, 7)\n",
      "(100028, 7)\n",
      "(96404, 7)\n",
      "(88793, 7)\n",
      "(90272, 7)\n",
      "(90683, 7)\n",
      "(90656, 7)\n",
      "(94938, 7)\n",
      "(95702, 7)\n",
      "(84949, 7)\n",
      "(90843, 7)\n",
      "(22744, 7)\n"
     ]
    }
   ],
   "source": [
    "print(df1011.shape)\n",
    "print(df1112.shape)\n",
    "print(df1213.shape)\n",
    "print(df1314.shape)\n",
    "print(df1415.shape)\n",
    "print(df1617.shape)\n",
    "print(df1718.shape)\n",
    "print(df1819.shape)\n",
    "print(df1920.shape)\n",
    "print(df2021.shape)\n",
    "print(df2122.shape)\n",
    "print(df22.shape)"
   ]
  },
  {
   "cell_type": "code",
   "execution_count": 72,
   "id": "10b7be1c",
   "metadata": {},
   "outputs": [],
   "source": [
    "df = pd.concat([df1011, df1112, df1213, df1314, df1415, df1516, df1617, df1718, df1819, df1920, df2021, df2122, df22], axis=0, ignore_index=True)"
   ]
  },
  {
   "cell_type": "code",
   "execution_count": 73,
   "id": "a44086d4",
   "metadata": {},
   "outputs": [
    {
     "data": {
      "text/plain": [
       "(1144477, 7)"
      ]
     },
     "execution_count": 73,
     "metadata": {},
     "output_type": "execute_result"
    }
   ],
   "source": [
    "df.shape"
   ]
  },
  {
   "cell_type": "code",
   "execution_count": 74,
   "id": "31406997",
   "metadata": {},
   "outputs": [],
   "source": [
    "##df.to_csv('Total.csv', index = False)"
   ]
  },
  {
   "cell_type": "code",
   "execution_count": 75,
   "id": "0a070996",
   "metadata": {},
   "outputs": [
    {
     "data": {
      "text/html": [
       "<div>\n",
       "<style scoped>\n",
       "    .dataframe tbody tr th:only-of-type {\n",
       "        vertical-align: middle;\n",
       "    }\n",
       "\n",
       "    .dataframe tbody tr th {\n",
       "        vertical-align: top;\n",
       "    }\n",
       "\n",
       "    .dataframe thead th {\n",
       "        text-align: right;\n",
       "    }\n",
       "</style>\n",
       "<table border=\"1\" class=\"dataframe\">\n",
       "  <thead>\n",
       "    <tr style=\"text-align: right;\">\n",
       "      <th></th>\n",
       "      <th>Reported Date</th>\n",
       "      <th>Suburb - Incident</th>\n",
       "      <th>Postcode - Incident</th>\n",
       "      <th>Offence Level 1 Description</th>\n",
       "      <th>Offence Level 2 Description</th>\n",
       "      <th>Offence Level 3 Description</th>\n",
       "      <th>Offence count</th>\n",
       "    </tr>\n",
       "  </thead>\n",
       "  <tbody>\n",
       "    <tr>\n",
       "      <th>1144472</th>\n",
       "      <td>30/09/2022</td>\n",
       "      <td>WOODVILLE SOUTH</td>\n",
       "      <td>5011</td>\n",
       "      <td>OFFENCES AGAINST PROPERTY</td>\n",
       "      <td>THEFT AND RELATED OFFENCES</td>\n",
       "      <td>Theft from motor vehicle</td>\n",
       "      <td>1.0</td>\n",
       "    </tr>\n",
       "    <tr>\n",
       "      <th>1144473</th>\n",
       "      <td>30/09/2022</td>\n",
       "      <td>YALATA</td>\n",
       "      <td>5690</td>\n",
       "      <td>OFFENCES AGAINST THE PERSON</td>\n",
       "      <td>ACTS INTENDED TO CAUSE INJURY</td>\n",
       "      <td>Serious Assault not resulting in injury</td>\n",
       "      <td>3.0</td>\n",
       "    </tr>\n",
       "    <tr>\n",
       "      <th>1144474</th>\n",
       "      <td>30/09/2022</td>\n",
       "      <td>NaN</td>\n",
       "      <td>NaN</td>\n",
       "      <td>OFFENCES AGAINST PROPERTY</td>\n",
       "      <td>FRAUD DECEPTION AND RELATED OFFENCES</td>\n",
       "      <td>Obtain benefit by deception</td>\n",
       "      <td>4.0</td>\n",
       "    </tr>\n",
       "    <tr>\n",
       "      <th>1144475</th>\n",
       "      <td>30/09/2022</td>\n",
       "      <td>NaN</td>\n",
       "      <td>NaN</td>\n",
       "      <td>OFFENCES AGAINST PROPERTY</td>\n",
       "      <td>FRAUD DECEPTION AND RELATED OFFENCES</td>\n",
       "      <td>Other fraud, deception and related offences</td>\n",
       "      <td>1.0</td>\n",
       "    </tr>\n",
       "    <tr>\n",
       "      <th>1144476</th>\n",
       "      <td>30/09/2022</td>\n",
       "      <td>NaN</td>\n",
       "      <td>NaN</td>\n",
       "      <td>OFFENCES AGAINST THE PERSON</td>\n",
       "      <td>ROBBERY AND RELATED OFFENCES</td>\n",
       "      <td>Blackmail and extortion</td>\n",
       "      <td>1.0</td>\n",
       "    </tr>\n",
       "  </tbody>\n",
       "</table>\n",
       "</div>"
      ],
      "text/plain": [
       "        Reported Date Suburb - Incident Postcode - Incident  \\\n",
       "1144472    30/09/2022   WOODVILLE SOUTH                5011   \n",
       "1144473    30/09/2022            YALATA                5690   \n",
       "1144474    30/09/2022               NaN                 NaN   \n",
       "1144475    30/09/2022               NaN                 NaN   \n",
       "1144476    30/09/2022               NaN                 NaN   \n",
       "\n",
       "         Offence Level 1 Description           Offence Level 2 Description  \\\n",
       "1144472    OFFENCES AGAINST PROPERTY            THEFT AND RELATED OFFENCES   \n",
       "1144473  OFFENCES AGAINST THE PERSON         ACTS INTENDED TO CAUSE INJURY   \n",
       "1144474    OFFENCES AGAINST PROPERTY  FRAUD DECEPTION AND RELATED OFFENCES   \n",
       "1144475    OFFENCES AGAINST PROPERTY  FRAUD DECEPTION AND RELATED OFFENCES   \n",
       "1144476  OFFENCES AGAINST THE PERSON          ROBBERY AND RELATED OFFENCES   \n",
       "\n",
       "                         Offence Level 3 Description  Offence count  \n",
       "1144472                     Theft from motor vehicle            1.0  \n",
       "1144473      Serious Assault not resulting in injury            3.0  \n",
       "1144474                  Obtain benefit by deception            4.0  \n",
       "1144475  Other fraud, deception and related offences            1.0  \n",
       "1144476                      Blackmail and extortion            1.0  "
      ]
     },
     "execution_count": 75,
     "metadata": {},
     "output_type": "execute_result"
    }
   ],
   "source": [
    "df.tail()"
   ]
  },
  {
   "cell_type": "code",
   "execution_count": 76,
   "id": "0b1cde7b",
   "metadata": {},
   "outputs": [
    {
     "data": {
      "text/plain": [
       "THEFT AND RELATED OFFENCES              452325\n",
       "PROPERTY DAMAGE AND ENVIRONMENTAL       245446\n",
       "ACTS INTENDED TO CAUSE INJURY           183900\n",
       "SERIOUS CRIMINAL TRESPASS               176733\n",
       "FRAUD DECEPTION AND RELATED OFFENCES     36745\n",
       "OTHER OFFENCES AGAINST THE PERSON        30640\n",
       "SEXUAL ASSAULT AND RELATED OFFENCES       9643\n",
       "ROBBERY AND RELATED OFFENCES              8414\n",
       "HOMICIDE AND RELATED OFFENCES              622\n",
       "Name: Offence Level 2 Description, dtype: int64"
      ]
     },
     "execution_count": 76,
     "metadata": {},
     "output_type": "execute_result"
    }
   ],
   "source": [
    "df['Offence Level 2 Description'].value_counts()"
   ]
  },
  {
   "cell_type": "code",
   "execution_count": 77,
   "id": "82327665",
   "metadata": {},
   "outputs": [
    {
     "data": {
      "text/plain": [
       "Reported Date                   object\n",
       "Suburb - Incident               object\n",
       "Postcode - Incident             object\n",
       "Offence Level 1 Description     object\n",
       "Offence Level 2 Description     object\n",
       "Offence Level 3 Description     object\n",
       "Offence count                  float64\n",
       "dtype: object"
      ]
     },
     "execution_count": 77,
     "metadata": {},
     "output_type": "execute_result"
    }
   ],
   "source": [
    "df.dtypes"
   ]
  },
  {
   "cell_type": "code",
   "execution_count": 78,
   "id": "e7e52f56",
   "metadata": {},
   "outputs": [],
   "source": [
    "df['Date'] = pd.to_datetime(df['Reported Date'],dayfirst=True)"
   ]
  },
  {
   "cell_type": "code",
   "execution_count": 79,
   "id": "433a70b5",
   "metadata": {},
   "outputs": [
    {
     "data": {
      "text/plain": [
       "0         2010-07-01\n",
       "1         2010-07-01\n",
       "2         2010-07-01\n",
       "3         2010-07-01\n",
       "4         2010-07-01\n",
       "             ...    \n",
       "1144472   2022-09-30\n",
       "1144473   2022-09-30\n",
       "1144474   2022-09-30\n",
       "1144475   2022-09-30\n",
       "1144476   2022-09-30\n",
       "Name: Date, Length: 1144477, dtype: datetime64[ns]"
      ]
     },
     "execution_count": 79,
     "metadata": {},
     "output_type": "execute_result"
    }
   ],
   "source": [
    "df['Date']"
   ]
  },
  {
   "cell_type": "code",
   "execution_count": 80,
   "id": "957542d5",
   "metadata": {},
   "outputs": [],
   "source": [
    "df['month'] = pd.to_datetime(df['Date']).dt.to_period('M')\n",
    "#df['month_year'] = pd.DatetimeIndex(df['Date']).to_period('M')\n"
   ]
  },
  {
   "cell_type": "code",
   "execution_count": 81,
   "id": "7e600cd9",
   "metadata": {},
   "outputs": [
    {
     "data": {
      "text/plain": [
       "0          2010-07\n",
       "1          2010-07\n",
       "2          2010-07\n",
       "3          2010-07\n",
       "4          2010-07\n",
       "            ...   \n",
       "1144472    2022-09\n",
       "1144473    2022-09\n",
       "1144474    2022-09\n",
       "1144475    2022-09\n",
       "1144476    2022-09\n",
       "Name: month, Length: 1144477, dtype: period[M]"
      ]
     },
     "execution_count": 81,
     "metadata": {},
     "output_type": "execute_result"
    }
   ],
   "source": [
    "df['month']"
   ]
  },
  {
   "cell_type": "code",
   "execution_count": 82,
   "id": "0a5e35ce",
   "metadata": {},
   "outputs": [],
   "source": [
    "monthly_counts = df.groupby(['month', 'Offence Level 2 Description'])['Offence count'].sum()"
   ]
  },
  {
   "cell_type": "code",
   "execution_count": 83,
   "id": "fd759b43",
   "metadata": {},
   "outputs": [],
   "source": [
    "monthly_counts = monthly_counts.reset_index()\n",
    "monthly_counts = monthly_counts.rename(columns={'month': 'Month', 'Offence Level 2 Description': 'Offence', 'Offence count': 'Offence Count'})"
   ]
  },
  {
   "cell_type": "code",
   "execution_count": 84,
   "id": "38637434",
   "metadata": {},
   "outputs": [
    {
     "name": "stdout",
     "output_type": "stream",
     "text": [
      "        Month                               Offence  Offence Count\n",
      "0     2010-07         ACTS INTENDED TO CAUSE INJURY         1273.0\n",
      "1     2010-07  FRAUD DECEPTION AND RELATED OFFENCES          313.0\n",
      "2     2010-07         HOMICIDE AND RELATED OFFENCES            1.0\n",
      "3     2010-07     OTHER OFFENCES AGAINST THE PERSON          311.0\n",
      "4     2010-07     PROPERTY DAMAGE AND ENVIRONMENTAL         2695.0\n",
      "...       ...                                   ...            ...\n",
      "1315  2022-09     PROPERTY DAMAGE AND ENVIRONMENTAL         1733.0\n",
      "1316  2022-09          ROBBERY AND RELATED OFFENCES           70.0\n",
      "1317  2022-09             SERIOUS CRIMINAL TRESPASS          873.0\n",
      "1318  2022-09   SEXUAL ASSAULT AND RELATED OFFENCES          211.0\n",
      "1319  2022-09            THEFT AND RELATED OFFENCES         4056.0\n",
      "\n",
      "[1320 rows x 3 columns]\n"
     ]
    }
   ],
   "source": [
    "print(monthly_counts)\n"
   ]
  },
  {
   "cell_type": "code",
   "execution_count": 85,
   "id": "f6e54275",
   "metadata": {},
   "outputs": [
    {
     "data": {
      "text/plain": [
       "ACTS INTENDED TO CAUSE INJURY           147\n",
       "FRAUD DECEPTION AND RELATED OFFENCES    147\n",
       "OTHER OFFENCES AGAINST THE PERSON       147\n",
       "PROPERTY DAMAGE AND ENVIRONMENTAL       147\n",
       "ROBBERY AND RELATED OFFENCES            147\n",
       "SERIOUS CRIMINAL TRESPASS               147\n",
       "SEXUAL ASSAULT AND RELATED OFFENCES     147\n",
       "THEFT AND RELATED OFFENCES              147\n",
       "HOMICIDE AND RELATED OFFENCES           144\n",
       "Name: Offence, dtype: int64"
      ]
     },
     "execution_count": 85,
     "metadata": {},
     "output_type": "execute_result"
    }
   ],
   "source": [
    "monthly_counts['Offence'].value_counts()\n"
   ]
  },
  {
   "cell_type": "code",
   "execution_count": 86,
   "id": "7df04c00",
   "metadata": {},
   "outputs": [
    {
     "data": {
      "text/html": [
       "<div>\n",
       "<style scoped>\n",
       "    .dataframe tbody tr th:only-of-type {\n",
       "        vertical-align: middle;\n",
       "    }\n",
       "\n",
       "    .dataframe tbody tr th {\n",
       "        vertical-align: top;\n",
       "    }\n",
       "\n",
       "    .dataframe thead th {\n",
       "        text-align: right;\n",
       "    }\n",
       "</style>\n",
       "<table border=\"1\" class=\"dataframe\">\n",
       "  <thead>\n",
       "    <tr style=\"text-align: right;\">\n",
       "      <th></th>\n",
       "      <th>Month</th>\n",
       "      <th>Offence</th>\n",
       "      <th>Offence Count</th>\n",
       "    </tr>\n",
       "  </thead>\n",
       "  <tbody>\n",
       "    <tr>\n",
       "      <th>0</th>\n",
       "      <td>2010-07</td>\n",
       "      <td>ACTS INTENDED TO CAUSE INJURY</td>\n",
       "      <td>1273.0</td>\n",
       "    </tr>\n",
       "    <tr>\n",
       "      <th>1</th>\n",
       "      <td>2010-07</td>\n",
       "      <td>FRAUD DECEPTION AND RELATED OFFENCES</td>\n",
       "      <td>313.0</td>\n",
       "    </tr>\n",
       "    <tr>\n",
       "      <th>2</th>\n",
       "      <td>2010-07</td>\n",
       "      <td>HOMICIDE AND RELATED OFFENCES</td>\n",
       "      <td>1.0</td>\n",
       "    </tr>\n",
       "    <tr>\n",
       "      <th>3</th>\n",
       "      <td>2010-07</td>\n",
       "      <td>OTHER OFFENCES AGAINST THE PERSON</td>\n",
       "      <td>311.0</td>\n",
       "    </tr>\n",
       "    <tr>\n",
       "      <th>4</th>\n",
       "      <td>2010-07</td>\n",
       "      <td>PROPERTY DAMAGE AND ENVIRONMENTAL</td>\n",
       "      <td>2695.0</td>\n",
       "    </tr>\n",
       "  </tbody>\n",
       "</table>\n",
       "</div>"
      ],
      "text/plain": [
       "     Month                               Offence  Offence Count\n",
       "0  2010-07         ACTS INTENDED TO CAUSE INJURY         1273.0\n",
       "1  2010-07  FRAUD DECEPTION AND RELATED OFFENCES          313.0\n",
       "2  2010-07         HOMICIDE AND RELATED OFFENCES            1.0\n",
       "3  2010-07     OTHER OFFENCES AGAINST THE PERSON          311.0\n",
       "4  2010-07     PROPERTY DAMAGE AND ENVIRONMENTAL         2695.0"
      ]
     },
     "execution_count": 86,
     "metadata": {},
     "output_type": "execute_result"
    }
   ],
   "source": [
    "monthly_counts.head(5)"
   ]
  },
  {
   "cell_type": "code",
   "execution_count": 87,
   "id": "e19ff307",
   "metadata": {},
   "outputs": [],
   "source": [
    "pivot_df = monthly_counts.pivot_table(index='Month', columns='Offence', values='Offence Count', aggfunc='sum')\n",
    "pivot_df = pivot_df.fillna(0)\n",
    "pivot_df.reset_index(inplace=True)"
   ]
  },
  {
   "cell_type": "code",
   "execution_count": 90,
   "id": "71ebf96d",
   "metadata": {},
   "outputs": [
    {
     "data": {
      "text/html": [
       "<div>\n",
       "<style scoped>\n",
       "    .dataframe tbody tr th:only-of-type {\n",
       "        vertical-align: middle;\n",
       "    }\n",
       "\n",
       "    .dataframe tbody tr th {\n",
       "        vertical-align: top;\n",
       "    }\n",
       "\n",
       "    .dataframe thead th {\n",
       "        text-align: right;\n",
       "    }\n",
       "</style>\n",
       "<table border=\"1\" class=\"dataframe\">\n",
       "  <thead>\n",
       "    <tr style=\"text-align: right;\">\n",
       "      <th>Offence</th>\n",
       "      <th>Month</th>\n",
       "      <th>ACTS INTENDED TO CAUSE INJURY</th>\n",
       "      <th>FRAUD DECEPTION AND RELATED OFFENCES</th>\n",
       "      <th>HOMICIDE AND RELATED OFFENCES</th>\n",
       "      <th>OTHER OFFENCES AGAINST THE PERSON</th>\n",
       "      <th>PROPERTY DAMAGE AND ENVIRONMENTAL</th>\n",
       "      <th>ROBBERY AND RELATED OFFENCES</th>\n",
       "      <th>SERIOUS CRIMINAL TRESPASS</th>\n",
       "      <th>SEXUAL ASSAULT AND RELATED OFFENCES</th>\n",
       "      <th>THEFT AND RELATED OFFENCES</th>\n",
       "    </tr>\n",
       "  </thead>\n",
       "  <tbody>\n",
       "    <tr>\n",
       "      <th>0</th>\n",
       "      <td>2010-07</td>\n",
       "      <td>1273.0</td>\n",
       "      <td>313.0</td>\n",
       "      <td>1.0</td>\n",
       "      <td>311.0</td>\n",
       "      <td>2695.0</td>\n",
       "      <td>103.0</td>\n",
       "      <td>1499.0</td>\n",
       "      <td>128.0</td>\n",
       "      <td>3682.0</td>\n",
       "    </tr>\n",
       "    <tr>\n",
       "      <th>1</th>\n",
       "      <td>2010-08</td>\n",
       "      <td>1339.0</td>\n",
       "      <td>294.0</td>\n",
       "      <td>5.0</td>\n",
       "      <td>312.0</td>\n",
       "      <td>2817.0</td>\n",
       "      <td>92.0</td>\n",
       "      <td>1633.0</td>\n",
       "      <td>124.0</td>\n",
       "      <td>3678.0</td>\n",
       "    </tr>\n",
       "    <tr>\n",
       "      <th>2</th>\n",
       "      <td>2010-09</td>\n",
       "      <td>1343.0</td>\n",
       "      <td>226.0</td>\n",
       "      <td>11.0</td>\n",
       "      <td>312.0</td>\n",
       "      <td>2757.0</td>\n",
       "      <td>86.0</td>\n",
       "      <td>1583.0</td>\n",
       "      <td>131.0</td>\n",
       "      <td>3686.0</td>\n",
       "    </tr>\n",
       "    <tr>\n",
       "      <th>3</th>\n",
       "      <td>2010-10</td>\n",
       "      <td>1355.0</td>\n",
       "      <td>199.0</td>\n",
       "      <td>9.0</td>\n",
       "      <td>272.0</td>\n",
       "      <td>3098.0</td>\n",
       "      <td>104.0</td>\n",
       "      <td>1636.0</td>\n",
       "      <td>143.0</td>\n",
       "      <td>3778.0</td>\n",
       "    </tr>\n",
       "    <tr>\n",
       "      <th>4</th>\n",
       "      <td>2010-11</td>\n",
       "      <td>1397.0</td>\n",
       "      <td>236.0</td>\n",
       "      <td>10.0</td>\n",
       "      <td>347.0</td>\n",
       "      <td>2920.0</td>\n",
       "      <td>81.0</td>\n",
       "      <td>1545.0</td>\n",
       "      <td>140.0</td>\n",
       "      <td>3854.0</td>\n",
       "    </tr>\n",
       "    <tr>\n",
       "      <th>...</th>\n",
       "      <td>...</td>\n",
       "      <td>...</td>\n",
       "      <td>...</td>\n",
       "      <td>...</td>\n",
       "      <td>...</td>\n",
       "      <td>...</td>\n",
       "      <td>...</td>\n",
       "      <td>...</td>\n",
       "      <td>...</td>\n",
       "      <td>...</td>\n",
       "    </tr>\n",
       "    <tr>\n",
       "      <th>142</th>\n",
       "      <td>2022-05</td>\n",
       "      <td>1661.0</td>\n",
       "      <td>520.0</td>\n",
       "      <td>3.0</td>\n",
       "      <td>122.0</td>\n",
       "      <td>1698.0</td>\n",
       "      <td>55.0</td>\n",
       "      <td>1013.0</td>\n",
       "      <td>140.0</td>\n",
       "      <td>4100.0</td>\n",
       "    </tr>\n",
       "    <tr>\n",
       "      <th>143</th>\n",
       "      <td>2022-06</td>\n",
       "      <td>1551.0</td>\n",
       "      <td>463.0</td>\n",
       "      <td>0.0</td>\n",
       "      <td>106.0</td>\n",
       "      <td>1717.0</td>\n",
       "      <td>77.0</td>\n",
       "      <td>937.0</td>\n",
       "      <td>186.0</td>\n",
       "      <td>4055.0</td>\n",
       "    </tr>\n",
       "    <tr>\n",
       "      <th>144</th>\n",
       "      <td>2022-07</td>\n",
       "      <td>1552.0</td>\n",
       "      <td>549.0</td>\n",
       "      <td>4.0</td>\n",
       "      <td>135.0</td>\n",
       "      <td>1724.0</td>\n",
       "      <td>78.0</td>\n",
       "      <td>987.0</td>\n",
       "      <td>201.0</td>\n",
       "      <td>4041.0</td>\n",
       "    </tr>\n",
       "    <tr>\n",
       "      <th>145</th>\n",
       "      <td>2022-08</td>\n",
       "      <td>1734.0</td>\n",
       "      <td>523.0</td>\n",
       "      <td>4.0</td>\n",
       "      <td>165.0</td>\n",
       "      <td>1655.0</td>\n",
       "      <td>84.0</td>\n",
       "      <td>937.0</td>\n",
       "      <td>229.0</td>\n",
       "      <td>4219.0</td>\n",
       "    </tr>\n",
       "    <tr>\n",
       "      <th>146</th>\n",
       "      <td>2022-09</td>\n",
       "      <td>1575.0</td>\n",
       "      <td>499.0</td>\n",
       "      <td>3.0</td>\n",
       "      <td>125.0</td>\n",
       "      <td>1733.0</td>\n",
       "      <td>70.0</td>\n",
       "      <td>873.0</td>\n",
       "      <td>211.0</td>\n",
       "      <td>4056.0</td>\n",
       "    </tr>\n",
       "  </tbody>\n",
       "</table>\n",
       "<p>147 rows × 10 columns</p>\n",
       "</div>"
      ],
      "text/plain": [
       "Offence    Month  ACTS INTENDED TO CAUSE INJURY  \\\n",
       "0        2010-07                         1273.0   \n",
       "1        2010-08                         1339.0   \n",
       "2        2010-09                         1343.0   \n",
       "3        2010-10                         1355.0   \n",
       "4        2010-11                         1397.0   \n",
       "..           ...                            ...   \n",
       "142      2022-05                         1661.0   \n",
       "143      2022-06                         1551.0   \n",
       "144      2022-07                         1552.0   \n",
       "145      2022-08                         1734.0   \n",
       "146      2022-09                         1575.0   \n",
       "\n",
       "Offence  FRAUD DECEPTION AND RELATED OFFENCES  HOMICIDE AND RELATED OFFENCES  \\\n",
       "0                                       313.0                            1.0   \n",
       "1                                       294.0                            5.0   \n",
       "2                                       226.0                           11.0   \n",
       "3                                       199.0                            9.0   \n",
       "4                                       236.0                           10.0   \n",
       "..                                        ...                            ...   \n",
       "142                                     520.0                            3.0   \n",
       "143                                     463.0                            0.0   \n",
       "144                                     549.0                            4.0   \n",
       "145                                     523.0                            4.0   \n",
       "146                                     499.0                            3.0   \n",
       "\n",
       "Offence  OTHER OFFENCES AGAINST THE PERSON  PROPERTY DAMAGE AND ENVIRONMENTAL  \\\n",
       "0                                    311.0                             2695.0   \n",
       "1                                    312.0                             2817.0   \n",
       "2                                    312.0                             2757.0   \n",
       "3                                    272.0                             3098.0   \n",
       "4                                    347.0                             2920.0   \n",
       "..                                     ...                                ...   \n",
       "142                                  122.0                             1698.0   \n",
       "143                                  106.0                             1717.0   \n",
       "144                                  135.0                             1724.0   \n",
       "145                                  165.0                             1655.0   \n",
       "146                                  125.0                             1733.0   \n",
       "\n",
       "Offence  ROBBERY AND RELATED OFFENCES  SERIOUS CRIMINAL TRESPASS  \\\n",
       "0                               103.0                     1499.0   \n",
       "1                                92.0                     1633.0   \n",
       "2                                86.0                     1583.0   \n",
       "3                               104.0                     1636.0   \n",
       "4                                81.0                     1545.0   \n",
       "..                                ...                        ...   \n",
       "142                              55.0                     1013.0   \n",
       "143                              77.0                      937.0   \n",
       "144                              78.0                      987.0   \n",
       "145                              84.0                      937.0   \n",
       "146                              70.0                      873.0   \n",
       "\n",
       "Offence  SEXUAL ASSAULT AND RELATED OFFENCES  THEFT AND RELATED OFFENCES  \n",
       "0                                      128.0                      3682.0  \n",
       "1                                      124.0                      3678.0  \n",
       "2                                      131.0                      3686.0  \n",
       "3                                      143.0                      3778.0  \n",
       "4                                      140.0                      3854.0  \n",
       "..                                       ...                         ...  \n",
       "142                                    140.0                      4100.0  \n",
       "143                                    186.0                      4055.0  \n",
       "144                                    201.0                      4041.0  \n",
       "145                                    229.0                      4219.0  \n",
       "146                                    211.0                      4056.0  \n",
       "\n",
       "[147 rows x 10 columns]"
      ]
     },
     "execution_count": 90,
     "metadata": {},
     "output_type": "execute_result"
    }
   ],
   "source": [
    "pivot_df"
   ]
  },
  {
   "cell_type": "code",
   "execution_count": 94,
   "id": "dbbac681",
   "metadata": {},
   "outputs": [
    {
     "data": {
      "text/plain": [
       "<Figure size 640x480 with 0 Axes>"
      ]
     },
     "metadata": {},
     "output_type": "display_data"
    },
    {
     "data": {
      "image/png": "[encoded data removed]",
      "text/plain": [
       "<Figure size 2500x500 with 1 Axes>"
      ]
     },
     "metadata": {},
     "output_type": "display_data"
    }
   ],
   "source": [
    "plt.figure()\n",
    "pivot_df.plot(x=\"Month\",y=['FRAUD DECEPTION AND RELATED OFFENCES'],figsize=(25, 5))\n",
    "plt.title('FRAUD DECEPTION AND RELATED OFFENCES')\n",
    "plt.show()\n"
   ]
  },
  {
   "cell_type": "code",
   "execution_count": 95,
   "id": "ce0de791",
   "metadata": {},
   "outputs": [
    {
     "data": {
      "text/html": [
       "<div>\n",
       "<style scoped>\n",
       "    .dataframe tbody tr th:only-of-type {\n",
       "        vertical-align: middle;\n",
       "    }\n",
       "\n",
       "    .dataframe tbody tr th {\n",
       "        vertical-align: top;\n",
       "    }\n",
       "\n",
       "    .dataframe thead th {\n",
       "        text-align: right;\n",
       "    }\n",
       "</style>\n",
       "<table border=\"1\" class=\"dataframe\">\n",
       "  <thead>\n",
       "    <tr style=\"text-align: right;\">\n",
       "      <th>Offence</th>\n",
       "      <th>ACTS INTENDED TO CAUSE INJURY</th>\n",
       "      <th>FRAUD DECEPTION AND RELATED OFFENCES</th>\n",
       "      <th>HOMICIDE AND RELATED OFFENCES</th>\n",
       "      <th>OTHER OFFENCES AGAINST THE PERSON</th>\n",
       "      <th>PROPERTY DAMAGE AND ENVIRONMENTAL</th>\n",
       "      <th>ROBBERY AND RELATED OFFENCES</th>\n",
       "      <th>SERIOUS CRIMINAL TRESPASS</th>\n",
       "      <th>SEXUAL ASSAULT AND RELATED OFFENCES</th>\n",
       "      <th>THEFT AND RELATED OFFENCES</th>\n",
       "    </tr>\n",
       "  </thead>\n",
       "  <tbody>\n",
       "    <tr>\n",
       "      <th>count</th>\n",
       "      <td>147.000000</td>\n",
       "      <td>147.000000</td>\n",
       "      <td>147.000000</td>\n",
       "      <td>147.000000</td>\n",
       "      <td>147.000000</td>\n",
       "      <td>147.000000</td>\n",
       "      <td>147.000000</td>\n",
       "      <td>147.000000</td>\n",
       "      <td>147.000000</td>\n",
       "    </tr>\n",
       "    <tr>\n",
       "      <th>mean</th>\n",
       "      <td>1440.775510</td>\n",
       "      <td>288.387755</td>\n",
       "      <td>4.571429</td>\n",
       "      <td>221.755102</td>\n",
       "      <td>2011.850340</td>\n",
       "      <td>61.380952</td>\n",
       "      <td>1314.204082</td>\n",
       "      <td>160.190476</td>\n",
       "      <td>3746.163265</td>\n",
       "    </tr>\n",
       "    <tr>\n",
       "      <th>std</th>\n",
       "      <td>145.942886</td>\n",
       "      <td>101.765003</td>\n",
       "      <td>2.796769</td>\n",
       "      <td>72.994238</td>\n",
       "      <td>381.008474</td>\n",
       "      <td>19.433883</td>\n",
       "      <td>211.823361</td>\n",
       "      <td>26.102625</td>\n",
       "      <td>465.888752</td>\n",
       "    </tr>\n",
       "    <tr>\n",
       "      <th>min</th>\n",
       "      <td>1118.000000</td>\n",
       "      <td>148.000000</td>\n",
       "      <td>0.000000</td>\n",
       "      <td>88.000000</td>\n",
       "      <td>1423.000000</td>\n",
       "      <td>28.000000</td>\n",
       "      <td>686.000000</td>\n",
       "      <td>109.000000</td>\n",
       "      <td>2757.000000</td>\n",
       "    </tr>\n",
       "    <tr>\n",
       "      <th>25%</th>\n",
       "      <td>1334.000000</td>\n",
       "      <td>221.500000</td>\n",
       "      <td>3.000000</td>\n",
       "      <td>151.500000</td>\n",
       "      <td>1737.000000</td>\n",
       "      <td>47.500000</td>\n",
       "      <td>1171.000000</td>\n",
       "      <td>141.500000</td>\n",
       "      <td>3451.000000</td>\n",
       "    </tr>\n",
       "    <tr>\n",
       "      <th>50%</th>\n",
       "      <td>1430.000000</td>\n",
       "      <td>252.000000</td>\n",
       "      <td>4.000000</td>\n",
       "      <td>236.000000</td>\n",
       "      <td>1887.000000</td>\n",
       "      <td>56.000000</td>\n",
       "      <td>1319.000000</td>\n",
       "      <td>157.000000</td>\n",
       "      <td>3686.000000</td>\n",
       "    </tr>\n",
       "    <tr>\n",
       "      <th>75%</th>\n",
       "      <td>1544.000000</td>\n",
       "      <td>332.500000</td>\n",
       "      <td>6.000000</td>\n",
       "      <td>285.500000</td>\n",
       "      <td>2181.000000</td>\n",
       "      <td>73.000000</td>\n",
       "      <td>1460.500000</td>\n",
       "      <td>178.000000</td>\n",
       "      <td>3961.000000</td>\n",
       "    </tr>\n",
       "    <tr>\n",
       "      <th>max</th>\n",
       "      <td>1812.000000</td>\n",
       "      <td>591.000000</td>\n",
       "      <td>15.000000</td>\n",
       "      <td>347.000000</td>\n",
       "      <td>3281.000000</td>\n",
       "      <td>135.000000</td>\n",
       "      <td>1730.000000</td>\n",
       "      <td>241.000000</td>\n",
       "      <td>5465.000000</td>\n",
       "    </tr>\n",
       "  </tbody>\n",
       "</table>\n",
       "</div>"
      ],
      "text/plain": [
       "Offence  ACTS INTENDED TO CAUSE INJURY  FRAUD DECEPTION AND RELATED OFFENCES  \\\n",
       "count                       147.000000                            147.000000   \n",
       "mean                       1440.775510                            288.387755   \n",
       "std                         145.942886                            101.765003   \n",
       "min                        1118.000000                            148.000000   \n",
       "25%                        1334.000000                            221.500000   \n",
       "50%                        1430.000000                            252.000000   \n",
       "75%                        1544.000000                            332.500000   \n",
       "max                        1812.000000                            591.000000   \n",
       "\n",
       "Offence  HOMICIDE AND RELATED OFFENCES  OTHER OFFENCES AGAINST THE PERSON  \\\n",
       "count                       147.000000                         147.000000   \n",
       "mean                          4.571429                         221.755102   \n",
       "std                           2.796769                          72.994238   \n",
       "min                           0.000000                          88.000000   \n",
       "25%                           3.000000                         151.500000   \n",
       "50%                           4.000000                         236.000000   \n",
       "75%                           6.000000                         285.500000   \n",
       "max                          15.000000                         347.000000   \n",
       "\n",
       "Offence  PROPERTY DAMAGE AND ENVIRONMENTAL  ROBBERY AND RELATED OFFENCES  \\\n",
       "count                           147.000000                    147.000000   \n",
       "mean                           2011.850340                     61.380952   \n",
       "std                             381.008474                     19.433883   \n",
       "min                            1423.000000                     28.000000   \n",
       "25%                            1737.000000                     47.500000   \n",
       "50%                            1887.000000                     56.000000   \n",
       "75%                            2181.000000                     73.000000   \n",
       "max                            3281.000000                    135.000000   \n",
       "\n",
       "Offence  SERIOUS CRIMINAL TRESPASS  SEXUAL ASSAULT AND RELATED OFFENCES  \\\n",
       "count                   147.000000                           147.000000   \n",
       "mean                   1314.204082                           160.190476   \n",
       "std                     211.823361                            26.102625   \n",
       "min                     686.000000                           109.000000   \n",
       "25%                    1171.000000                           141.500000   \n",
       "50%                    1319.000000                           157.000000   \n",
       "75%                    1460.500000                           178.000000   \n",
       "max                    1730.000000                           241.000000   \n",
       "\n",
       "Offence  THEFT AND RELATED OFFENCES  \n",
       "count                    147.000000  \n",
       "mean                    3746.163265  \n",
       "std                      465.888752  \n",
       "min                     2757.000000  \n",
       "25%                     3451.000000  \n",
       "50%                     3686.000000  \n",
       "75%                     3961.000000  \n",
       "max                     5465.000000  "
      ]
     },
     "execution_count": 95,
     "metadata": {},
     "output_type": "execute_result"
    }
   ],
   "source": [
    "pivot_df.describe()"
   ]
  },
  {
   "cell_type": "code",
   "execution_count": 96,
   "id": "a7da3e2c",
   "metadata": {},
   "outputs": [],
   "source": [
    "rowsum = pivot_df.iloc[:,1:].sum(axis=0)\n",
    "colsum = pivot_df.iloc[:,1:].sum(axis=1)\n"
   ]
  },
  {
   "cell_type": "code",
   "execution_count": 97,
   "id": "bfe0b9c8",
   "metadata": {},
   "outputs": [
    {
     "data": {
      "text/plain": [
       "1359644.0"
      ]
     },
     "execution_count": 97,
     "metadata": {},
     "output_type": "execute_result"
    }
   ],
   "source": [
    "rowsum.sum()"
   ]
  },
  {
   "cell_type": "code",
   "execution_count": 98,
   "id": "925d4f56",
   "metadata": {},
   "outputs": [
    {
     "data": {
      "text/plain": [
       "1359644.0"
      ]
     },
     "execution_count": 98,
     "metadata": {},
     "output_type": "execute_result"
    }
   ],
   "source": [
    "df['Offence count'].sum()"
   ]
  },
  {
   "cell_type": "code",
   "execution_count": 100,
   "id": "7b332fe4",
   "metadata": {},
   "outputs": [],
   "source": [
    "##pivot_df.to_csv('Full.csv', index = False)"
   ]
  },
  {
   "cell_type": "code",
   "execution_count": 180,
   "id": "cb4f2f48",
   "metadata": {},
   "outputs": [],
   "source": [
    "train_df = pivot_df.iloc[:142]\n",
    "test_df = pivot_df.iloc[-3:]"
   ]
  },
  {
   "cell_type": "code",
   "execution_count": 181,
   "id": "2da20735",
   "metadata": {},
   "outputs": [],
   "source": [
    "train_df.set_index('Month', inplace=True)"
   ]
  },
  {
   "cell_type": "code",
   "execution_count": 182,
   "id": "5520b381",
   "metadata": {},
   "outputs": [],
   "source": [
    "test_df.set_index('Month', inplace=True)"
   ]
  },
  {
   "cell_type": "code",
   "execution_count": 183,
   "id": "61e022d6",
   "metadata": {},
   "outputs": [],
   "source": [
    "train_df=train_df.rename_axis(None, axis = 1)\n",
    "test_df=test_df.rename_axis(None, axis = 1)"
   ]
  },
  {
   "cell_type": "code",
   "execution_count": 184,
   "id": "a7f501c0",
   "metadata": {},
   "outputs": [
    {
     "data": {
      "text/html": [
       "<div>\n",
       "<style scoped>\n",
       "    .dataframe tbody tr th:only-of-type {\n",
       "        vertical-align: middle;\n",
       "    }\n",
       "\n",
       "    .dataframe tbody tr th {\n",
       "        vertical-align: top;\n",
       "    }\n",
       "\n",
       "    .dataframe thead th {\n",
       "        text-align: right;\n",
       "    }\n",
       "</style>\n",
       "<table border=\"1\" class=\"dataframe\">\n",
       "  <thead>\n",
       "    <tr style=\"text-align: right;\">\n",
       "      <th></th>\n",
       "      <th>ACTS INTENDED TO CAUSE INJURY</th>\n",
       "      <th>FRAUD DECEPTION AND RELATED OFFENCES</th>\n",
       "      <th>HOMICIDE AND RELATED OFFENCES</th>\n",
       "      <th>OTHER OFFENCES AGAINST THE PERSON</th>\n",
       "      <th>PROPERTY DAMAGE AND ENVIRONMENTAL</th>\n",
       "      <th>ROBBERY AND RELATED OFFENCES</th>\n",
       "      <th>SERIOUS CRIMINAL TRESPASS</th>\n",
       "      <th>SEXUAL ASSAULT AND RELATED OFFENCES</th>\n",
       "      <th>THEFT AND RELATED OFFENCES</th>\n",
       "    </tr>\n",
       "    <tr>\n",
       "      <th>Month</th>\n",
       "      <th></th>\n",
       "      <th></th>\n",
       "      <th></th>\n",
       "      <th></th>\n",
       "      <th></th>\n",
       "      <th></th>\n",
       "      <th></th>\n",
       "      <th></th>\n",
       "      <th></th>\n",
       "    </tr>\n",
       "  </thead>\n",
       "  <tbody>\n",
       "    <tr>\n",
       "      <th>2022-07</th>\n",
       "      <td>1552.0</td>\n",
       "      <td>549.0</td>\n",
       "      <td>4.0</td>\n",
       "      <td>135.0</td>\n",
       "      <td>1724.0</td>\n",
       "      <td>78.0</td>\n",
       "      <td>987.0</td>\n",
       "      <td>201.0</td>\n",
       "      <td>4041.0</td>\n",
       "    </tr>\n",
       "    <tr>\n",
       "      <th>2022-08</th>\n",
       "      <td>1734.0</td>\n",
       "      <td>523.0</td>\n",
       "      <td>4.0</td>\n",
       "      <td>165.0</td>\n",
       "      <td>1655.0</td>\n",
       "      <td>84.0</td>\n",
       "      <td>937.0</td>\n",
       "      <td>229.0</td>\n",
       "      <td>4219.0</td>\n",
       "    </tr>\n",
       "    <tr>\n",
       "      <th>2022-09</th>\n",
       "      <td>1575.0</td>\n",
       "      <td>499.0</td>\n",
       "      <td>3.0</td>\n",
       "      <td>125.0</td>\n",
       "      <td>1733.0</td>\n",
       "      <td>70.0</td>\n",
       "      <td>873.0</td>\n",
       "      <td>211.0</td>\n",
       "      <td>4056.0</td>\n",
       "    </tr>\n",
       "  </tbody>\n",
       "</table>\n",
       "</div>"
      ],
      "text/plain": [
       "         ACTS INTENDED TO CAUSE INJURY  FRAUD DECEPTION AND RELATED OFFENCES  \\\n",
       "Month                                                                          \n",
       "2022-07                         1552.0                                 549.0   \n",
       "2022-08                         1734.0                                 523.0   \n",
       "2022-09                         1575.0                                 499.0   \n",
       "\n",
       "         HOMICIDE AND RELATED OFFENCES  OTHER OFFENCES AGAINST THE PERSON  \\\n",
       "Month                                                                       \n",
       "2022-07                            4.0                              135.0   \n",
       "2022-08                            4.0                              165.0   \n",
       "2022-09                            3.0                              125.0   \n",
       "\n",
       "         PROPERTY DAMAGE AND ENVIRONMENTAL  ROBBERY AND RELATED OFFENCES  \\\n",
       "Month                                                                      \n",
       "2022-07                             1724.0                          78.0   \n",
       "2022-08                             1655.0                          84.0   \n",
       "2022-09                             1733.0                          70.0   \n",
       "\n",
       "         SERIOUS CRIMINAL TRESPASS  SEXUAL ASSAULT AND RELATED OFFENCES  \\\n",
       "Month                                                                     \n",
       "2022-07                      987.0                                201.0   \n",
       "2022-08                      937.0                                229.0   \n",
       "2022-09                      873.0                                211.0   \n",
       "\n",
       "         THEFT AND RELATED OFFENCES  \n",
       "Month                                \n",
       "2022-07                      4041.0  \n",
       "2022-08                      4219.0  \n",
       "2022-09                      4056.0  "
      ]
     },
     "execution_count": 184,
     "metadata": {},
     "output_type": "execute_result"
    }
   ],
   "source": [
    "test_df"
   ]
  },
  {
   "cell_type": "code",
   "execution_count": 125,
   "id": "d1f6e059",
   "metadata": {},
   "outputs": [
    {
     "data": {
      "text/plain": [
       "9"
      ]
     },
     "execution_count": 125,
     "metadata": {},
     "output_type": "execute_result"
    }
   ],
   "source": [
    "amount_of_features = len(train_df.columns)\n",
    "amount_of_features"
   ]
  },
  {
   "cell_type": "code",
   "execution_count": 185,
   "id": "db3720a3",
   "metadata": {},
   "outputs": [],
   "source": [
    "training_set = train_df.iloc[:, 1:2].values"
   ]
  },
  {
   "cell_type": "code",
   "execution_count": 186,
   "id": "27baa5ee",
   "metadata": {},
   "outputs": [],
   "source": [
    "testing_set = test_df.iloc[:, 1:2].values"
   ]
  },
  {
   "cell_type": "code",
   "execution_count": 187,
   "id": "9673bb7a",
   "metadata": {},
   "outputs": [],
   "source": [
    "from sklearn.preprocessing import MinMaxScaler\n",
    "sc = MinMaxScaler(feature_range = (0, 1))  ##normalization##\n",
    "training_set_scaled = sc.fit_transform(training_set)"
   ]
  },
  {
   "cell_type": "code",
   "execution_count": 188,
   "id": "a20a545e",
   "metadata": {},
   "outputs": [
    {
     "name": "stdout",
     "output_type": "stream",
     "text": [
      "142\n"
     ]
    }
   ],
   "source": [
    "print(len(training_set_scaled))"
   ]
  },
  {
   "cell_type": "code",
   "execution_count": 190,
   "id": "2b02362e",
   "metadata": {},
   "outputs": [],
   "source": [
    "X = []\n",
    "y = []\n",
    "## 60 = how many ovservation for next day preddiction\n",
    "## 135 = last index of training set\n",
    "for i in range (3, 142):  \n",
    "    X.append(training_set_scaled[i-3:i, 0]) ## i-3:i = rows, 0=column  [upper bound excluded]\n",
    "    y.append(training_set_scaled[i, 0])\n",
    "X, y = np.array(X_train), np.array(y_train)  #convert to numpy arrays from lists"
   ]
  },
  {
   "cell_type": "code",
   "execution_count": 191,
   "id": "adc75e29",
   "metadata": {},
   "outputs": [],
   "source": [
    "X_train = np.reshape(X, (X.shape[0], X.shape[1], 1))"
   ]
  },
  {
   "cell_type": "code",
   "execution_count": 193,
   "id": "e4ccaa3a",
   "metadata": {},
   "outputs": [
    {
     "data": {
      "text/plain": [
       "(139, 3, 1)"
      ]
     },
     "execution_count": 193,
     "metadata": {},
     "output_type": "execute_result"
    }
   ],
   "source": [
    "X_train.shape"
   ]
  },
  {
   "cell_type": "code",
   "execution_count": 139,
   "id": "120693f7",
   "metadata": {},
   "outputs": [],
   "source": [
    "from keras.models import Sequential\n",
    "from keras.layers import Dense\n",
    "from keras.layers import LSTM\n",
    "from keras.layers import Dropout"
   ]
  },
  {
   "cell_type": "code",
   "execution_count": 194,
   "id": "e6b02942",
   "metadata": {},
   "outputs": [],
   "source": [
    "regressor = Sequential()"
   ]
  },
  {
   "cell_type": "code",
   "execution_count": 195,
   "id": "1691c2d0",
   "metadata": {},
   "outputs": [],
   "source": [
    "regressor.add(LSTM(units = 5, return_sequences = True, input_shape = (X_train.shape[1], 1)))\n",
    "regressor.add(Dropout(0.2))\n",
    "regressor.add(LSTM(units = 5, return_sequences = True))\n",
    "regressor.add(Dropout(0.2))\n",
    "regressor.add(LSTM(units = 5, return_sequences = True))\n",
    "regressor.add(Dropout(0.2))\n",
    "regressor.add(LSTM(units = 5))\n",
    "regressor.add(Dropout(0.2))\n",
    "regressor.add(Dense(units = 1))"
   ]
  },
  {
   "cell_type": "code",
   "execution_count": 196,
   "id": "9d3ae4cf",
   "metadata": {},
   "outputs": [],
   "source": [
    "regressor.compile(optimizer = 'adam', loss = 'mean_squared_error')"
   ]
  },
  {
   "cell_type": "code",
   "execution_count": 199,
   "id": "7a544328",
   "metadata": {},
   "outputs": [
    {
     "name": "stdout",
     "output_type": "stream",
     "text": [
      "Epoch 1/150\n",
      "5/5 [==============================] - 0s 4ms/step - loss: 0.0131\n",
      "Epoch 2/150\n",
      "5/5 [==============================] - 0s 4ms/step - loss: 0.0136\n",
      "Epoch 3/150\n",
      "5/5 [==============================] - 0s 4ms/step - loss: 0.0127\n",
      "Epoch 4/150\n",
      "5/5 [==============================] - 0s 4ms/step - loss: 0.0126\n",
      "Epoch 5/150\n",
      "5/5 [==============================] - 0s 4ms/step - loss: 0.0145\n",
      "Epoch 6/150\n",
      "5/5 [==============================] - 0s 4ms/step - loss: 0.0170\n",
      "Epoch 7/150\n",
      "5/5 [==============================] - 0s 4ms/step - loss: 0.0128\n",
      "Epoch 8/150\n",
      "5/5 [==============================] - 0s 4ms/step - loss: 0.0151\n",
      "Epoch 9/150\n",
      "5/5 [==============================] - 0s 4ms/step - loss: 0.0118\n",
      "Epoch 10/150\n",
      "5/5 [==============================] - 0s 4ms/step - loss: 0.0136\n",
      "Epoch 11/150\n",
      "5/5 [==============================] - 0s 4ms/step - loss: 0.0142\n",
      "Epoch 12/150\n",
      "5/5 [==============================] - 0s 4ms/step - loss: 0.0136\n",
      "Epoch 13/150\n",
      "5/5 [==============================] - 0s 4ms/step - loss: 0.0125\n",
      "Epoch 14/150\n",
      "5/5 [==============================] - 0s 4ms/step - loss: 0.0120\n",
      "Epoch 15/150\n",
      "5/5 [==============================] - 0s 4ms/step - loss: 0.0146\n",
      "Epoch 16/150\n",
      "5/5 [==============================] - 0s 4ms/step - loss: 0.0124\n",
      "Epoch 17/150\n",
      "5/5 [==============================] - 0s 4ms/step - loss: 0.0154\n",
      "Epoch 18/150\n",
      "5/5 [==============================] - 0s 4ms/step - loss: 0.0112\n",
      "Epoch 19/150\n",
      "5/5 [==============================] - 0s 4ms/step - loss: 0.0141\n",
      "Epoch 20/150\n",
      "5/5 [==============================] - 0s 4ms/step - loss: 0.0127\n",
      "Epoch 21/150\n",
      "5/5 [==============================] - 0s 4ms/step - loss: 0.0135\n",
      "Epoch 22/150\n",
      "5/5 [==============================] - 0s 4ms/step - loss: 0.0125\n",
      "Epoch 23/150\n",
      "5/5 [==============================] - 0s 4ms/step - loss: 0.0133\n",
      "Epoch 24/150\n",
      "5/5 [==============================] - 0s 4ms/step - loss: 0.0127\n",
      "Epoch 25/150\n",
      "5/5 [==============================] - 0s 4ms/step - loss: 0.0129\n",
      "Epoch 26/150\n",
      "5/5 [==============================] - 0s 4ms/step - loss: 0.0165\n",
      "Epoch 27/150\n",
      "5/5 [==============================] - 0s 4ms/step - loss: 0.0119\n",
      "Epoch 28/150\n",
      "5/5 [==============================] - 0s 4ms/step - loss: 0.0125\n",
      "Epoch 29/150\n",
      "5/5 [==============================] - 0s 4ms/step - loss: 0.0120\n",
      "Epoch 30/150\n",
      "5/5 [==============================] - 0s 4ms/step - loss: 0.0122\n",
      "Epoch 31/150\n",
      "5/5 [==============================] - 0s 4ms/step - loss: 0.0133\n",
      "Epoch 32/150\n",
      "5/5 [==============================] - 0s 4ms/step - loss: 0.0162\n",
      "Epoch 33/150\n",
      "5/5 [==============================] - 0s 4ms/step - loss: 0.0138\n",
      "Epoch 34/150\n",
      "5/5 [==============================] - 0s 4ms/step - loss: 0.0112\n",
      "Epoch 35/150\n",
      "5/5 [==============================] - 0s 4ms/step - loss: 0.0160\n",
      "Epoch 36/150\n",
      "5/5 [==============================] - 0s 4ms/step - loss: 0.0117\n",
      "Epoch 37/150\n",
      "5/5 [==============================] - 0s 4ms/step - loss: 0.0140\n",
      "Epoch 38/150\n",
      "5/5 [==============================] - 0s 4ms/step - loss: 0.0130\n",
      "Epoch 39/150\n",
      "5/5 [==============================] - 0s 4ms/step - loss: 0.0113\n",
      "Epoch 40/150\n",
      "5/5 [==============================] - 0s 4ms/step - loss: 0.0118\n",
      "Epoch 41/150\n",
      "5/5 [==============================] - 0s 4ms/step - loss: 0.0113\n",
      "Epoch 42/150\n",
      "5/5 [==============================] - 0s 4ms/step - loss: 0.0127\n",
      "Epoch 43/150\n",
      "5/5 [==============================] - 0s 4ms/step - loss: 0.0122\n",
      "Epoch 44/150\n",
      "5/5 [==============================] - 0s 4ms/step - loss: 0.0125\n",
      "Epoch 45/150\n",
      "5/5 [==============================] - 0s 4ms/step - loss: 0.0128\n",
      "Epoch 46/150\n",
      "5/5 [==============================] - 0s 5ms/step - loss: 0.0159\n",
      "Epoch 47/150\n",
      "5/5 [==============================] - 0s 5ms/step - loss: 0.0153\n",
      "Epoch 48/150\n",
      "5/5 [==============================] - 0s 5ms/step - loss: 0.0126\n",
      "Epoch 49/150\n",
      "5/5 [==============================] - 0s 5ms/step - loss: 0.0129\n",
      "Epoch 50/150\n",
      "5/5 [==============================] - 0s 4ms/step - loss: 0.0139\n",
      "Epoch 51/150\n",
      "5/5 [==============================] - 0s 4ms/step - loss: 0.0117\n",
      "Epoch 52/150\n",
      "5/5 [==============================] - 0s 4ms/step - loss: 0.0148\n",
      "Epoch 53/150\n",
      "5/5 [==============================] - 0s 4ms/step - loss: 0.0143\n",
      "Epoch 54/150\n",
      "5/5 [==============================] - 0s 4ms/step - loss: 0.0123\n",
      "Epoch 55/150\n",
      "5/5 [==============================] - 0s 4ms/step - loss: 0.0135\n",
      "Epoch 56/150\n",
      "5/5 [==============================] - 0s 4ms/step - loss: 0.0120\n",
      "Epoch 57/150\n",
      "5/5 [==============================] - 0s 4ms/step - loss: 0.0154\n",
      "Epoch 58/150\n",
      "5/5 [==============================] - 0s 4ms/step - loss: 0.0117\n",
      "Epoch 59/150\n",
      "5/5 [==============================] - 0s 4ms/step - loss: 0.0126\n",
      "Epoch 60/150\n",
      "5/5 [==============================] - 0s 4ms/step - loss: 0.0120\n",
      "Epoch 61/150\n",
      "5/5 [==============================] - 0s 4ms/step - loss: 0.0124\n",
      "Epoch 62/150\n",
      "5/5 [==============================] - 0s 4ms/step - loss: 0.0127\n",
      "Epoch 63/150\n",
      "5/5 [==============================] - 0s 4ms/step - loss: 0.0154\n",
      "Epoch 64/150\n",
      "5/5 [==============================] - 0s 4ms/step - loss: 0.0109\n",
      "Epoch 65/150\n",
      "5/5 [==============================] - 0s 4ms/step - loss: 0.0135\n",
      "Epoch 66/150\n",
      "5/5 [==============================] - 0s 4ms/step - loss: 0.0135\n",
      "Epoch 67/150\n",
      "5/5 [==============================] - 0s 4ms/step - loss: 0.0130\n",
      "Epoch 68/150\n",
      "5/5 [==============================] - 0s 4ms/step - loss: 0.0125\n",
      "Epoch 69/150\n",
      "5/5 [==============================] - 0s 4ms/step - loss: 0.0130\n",
      "Epoch 70/150\n",
      "5/5 [==============================] - 0s 4ms/step - loss: 0.0120\n",
      "Epoch 71/150\n",
      "5/5 [==============================] - 0s 4ms/step - loss: 0.0141\n",
      "Epoch 72/150\n",
      "5/5 [==============================] - 0s 4ms/step - loss: 0.0102\n",
      "Epoch 73/150\n",
      "5/5 [==============================] - 0s 4ms/step - loss: 0.0129\n",
      "Epoch 74/150\n",
      "5/5 [==============================] - 0s 4ms/step - loss: 0.0153\n",
      "Epoch 75/150\n",
      "5/5 [==============================] - 0s 4ms/step - loss: 0.0118\n",
      "Epoch 76/150\n",
      "5/5 [==============================] - 0s 4ms/step - loss: 0.0119\n",
      "Epoch 77/150\n",
      "5/5 [==============================] - 0s 4ms/step - loss: 0.0105\n",
      "Epoch 78/150\n",
      "5/5 [==============================] - 0s 4ms/step - loss: 0.0118\n",
      "Epoch 79/150\n",
      "5/5 [==============================] - 0s 4ms/step - loss: 0.0124\n",
      "Epoch 80/150\n",
      "5/5 [==============================] - 0s 4ms/step - loss: 0.0127\n",
      "Epoch 81/150\n",
      "5/5 [==============================] - 0s 4ms/step - loss: 0.0132\n",
      "Epoch 82/150\n",
      "5/5 [==============================] - 0s 4ms/step - loss: 0.0125\n",
      "Epoch 83/150\n",
      "5/5 [==============================] - 0s 4ms/step - loss: 0.0120\n",
      "Epoch 84/150\n",
      "5/5 [==============================] - 0s 4ms/step - loss: 0.0114\n",
      "Epoch 85/150\n",
      "5/5 [==============================] - 0s 4ms/step - loss: 0.0128\n",
      "Epoch 86/150\n",
      "5/5 [==============================] - 0s 4ms/step - loss: 0.0141\n",
      "Epoch 87/150\n",
      "5/5 [==============================] - 0s 4ms/step - loss: 0.0126\n",
      "Epoch 88/150\n",
      "5/5 [==============================] - 0s 4ms/step - loss: 0.0155\n",
      "Epoch 89/150\n",
      "5/5 [==============================] - 0s 4ms/step - loss: 0.0121\n",
      "Epoch 90/150\n",
      "5/5 [==============================] - 0s 4ms/step - loss: 0.0154\n",
      "Epoch 91/150\n",
      "5/5 [==============================] - 0s 4ms/step - loss: 0.0126\n",
      "Epoch 92/150\n",
      "5/5 [==============================] - 0s 4ms/step - loss: 0.0145\n",
      "Epoch 93/150\n",
      "5/5 [==============================] - 0s 4ms/step - loss: 0.0134\n",
      "Epoch 94/150\n",
      "5/5 [==============================] - 0s 4ms/step - loss: 0.0134\n",
      "Epoch 95/150\n",
      "5/5 [==============================] - 0s 4ms/step - loss: 0.0130\n",
      "Epoch 96/150\n",
      "5/5 [==============================] - 0s 4ms/step - loss: 0.0142\n",
      "Epoch 97/150\n",
      "5/5 [==============================] - 0s 4ms/step - loss: 0.0119\n",
      "Epoch 98/150\n",
      "5/5 [==============================] - 0s 4ms/step - loss: 0.0127\n",
      "Epoch 99/150\n",
      "5/5 [==============================] - 0s 4ms/step - loss: 0.0148\n",
      "Epoch 100/150\n",
      "5/5 [==============================] - 0s 4ms/step - loss: 0.0132\n",
      "Epoch 101/150\n",
      "5/5 [==============================] - 0s 4ms/step - loss: 0.0147\n",
      "Epoch 102/150\n",
      "5/5 [==============================] - 0s 4ms/step - loss: 0.0137\n",
      "Epoch 103/150\n",
      "5/5 [==============================] - 0s 4ms/step - loss: 0.0126\n",
      "Epoch 104/150\n"
     ]
    },
    {
     "name": "stdout",
     "output_type": "stream",
     "text": [
      "5/5 [==============================] - 0s 4ms/step - loss: 0.0133\n",
      "Epoch 105/150\n",
      "5/5 [==============================] - 0s 4ms/step - loss: 0.0123\n",
      "Epoch 106/150\n",
      "5/5 [==============================] - 0s 4ms/step - loss: 0.0124\n",
      "Epoch 107/150\n",
      "5/5 [==============================] - 0s 4ms/step - loss: 0.0149\n",
      "Epoch 108/150\n",
      "5/5 [==============================] - 0s 4ms/step - loss: 0.0127\n",
      "Epoch 109/150\n",
      "5/5 [==============================] - 0s 4ms/step - loss: 0.0145\n",
      "Epoch 110/150\n",
      "5/5 [==============================] - 0s 4ms/step - loss: 0.0132\n",
      "Epoch 111/150\n",
      "5/5 [==============================] - 0s 4ms/step - loss: 0.0151\n",
      "Epoch 112/150\n",
      "5/5 [==============================] - 0s 4ms/step - loss: 0.0117\n",
      "Epoch 113/150\n",
      "5/5 [==============================] - 0s 4ms/step - loss: 0.0142\n",
      "Epoch 114/150\n",
      "5/5 [==============================] - 0s 4ms/step - loss: 0.0124\n",
      "Epoch 115/150\n",
      "5/5 [==============================] - 0s 4ms/step - loss: 0.0103\n",
      "Epoch 116/150\n",
      "5/5 [==============================] - 0s 4ms/step - loss: 0.0143\n",
      "Epoch 117/150\n",
      "5/5 [==============================] - 0s 4ms/step - loss: 0.0130\n",
      "Epoch 118/150\n",
      "5/5 [==============================] - 0s 4ms/step - loss: 0.0124\n",
      "Epoch 119/150\n",
      "5/5 [==============================] - 0s 4ms/step - loss: 0.0136\n",
      "Epoch 120/150\n",
      "5/5 [==============================] - 0s 4ms/step - loss: 0.0132\n",
      "Epoch 121/150\n",
      "5/5 [==============================] - 0s 4ms/step - loss: 0.0133\n",
      "Epoch 122/150\n",
      "5/5 [==============================] - 0s 4ms/step - loss: 0.0139\n",
      "Epoch 123/150\n",
      "5/5 [==============================] - 0s 4ms/step - loss: 0.0138\n",
      "Epoch 124/150\n",
      "5/5 [==============================] - 0s 4ms/step - loss: 0.0154\n",
      "Epoch 125/150\n",
      "5/5 [==============================] - 0s 4ms/step - loss: 0.0164\n",
      "Epoch 126/150\n",
      "5/5 [==============================] - 0s 4ms/step - loss: 0.0127\n",
      "Epoch 127/150\n",
      "5/5 [==============================] - 0s 4ms/step - loss: 0.0131\n",
      "Epoch 128/150\n",
      "5/5 [==============================] - 0s 4ms/step - loss: 0.0140\n",
      "Epoch 129/150\n",
      "5/5 [==============================] - 0s 4ms/step - loss: 0.0137\n",
      "Epoch 130/150\n",
      "5/5 [==============================] - 0s 4ms/step - loss: 0.0116\n",
      "Epoch 131/150\n",
      "5/5 [==============================] - 0s 4ms/step - loss: 0.0151\n",
      "Epoch 132/150\n",
      "5/5 [==============================] - 0s 4ms/step - loss: 0.0154\n",
      "Epoch 133/150\n",
      "5/5 [==============================] - 0s 4ms/step - loss: 0.0136\n",
      "Epoch 134/150\n",
      "5/5 [==============================] - 0s 4ms/step - loss: 0.0121\n",
      "Epoch 135/150\n",
      "5/5 [==============================] - 0s 4ms/step - loss: 0.0119\n",
      "Epoch 136/150\n",
      "5/5 [==============================] - 0s 4ms/step - loss: 0.0147\n",
      "Epoch 137/150\n",
      "5/5 [==============================] - 0s 4ms/step - loss: 0.0132\n",
      "Epoch 138/150\n",
      "5/5 [==============================] - 0s 4ms/step - loss: 0.0122\n",
      "Epoch 139/150\n",
      "5/5 [==============================] - 0s 4ms/step - loss: 0.0101\n",
      "Epoch 140/150\n",
      "5/5 [==============================] - 0s 4ms/step - loss: 0.0115\n",
      "Epoch 141/150\n",
      "5/5 [==============================] - 0s 4ms/step - loss: 0.0107\n",
      "Epoch 142/150\n",
      "5/5 [==============================] - 0s 4ms/step - loss: 0.0131\n",
      "Epoch 143/150\n",
      "5/5 [==============================] - 0s 4ms/step - loss: 0.0132\n",
      "Epoch 144/150\n",
      "5/5 [==============================] - 0s 4ms/step - loss: 0.0128\n",
      "Epoch 145/150\n",
      "5/5 [==============================] - 0s 4ms/step - loss: 0.0120\n",
      "Epoch 146/150\n",
      "5/5 [==============================] - 0s 4ms/step - loss: 0.0123\n",
      "Epoch 147/150\n",
      "5/5 [==============================] - 0s 4ms/step - loss: 0.0130\n",
      "Epoch 148/150\n",
      "5/5 [==============================] - 0s 4ms/step - loss: 0.0136\n",
      "Epoch 149/150\n",
      "5/5 [==============================] - 0s 4ms/step - loss: 0.0143\n",
      "Epoch 150/150\n",
      "5/5 [==============================] - 0s 4ms/step - loss: 0.0117\n"
     ]
    },
    {
     "data": {
      "text/plain": [
       "<keras.callbacks.History at 0x1850691a700>"
      ]
     },
     "execution_count": 199,
     "metadata": {},
     "output_type": "execute_result"
    }
   ],
   "source": [
    "regressor.fit(X_train, y_train, epochs = 150, batch_size = 32)"
   ]
  },
  {
   "cell_type": "code",
   "execution_count": 200,
   "id": "42bbee62",
   "metadata": {},
   "outputs": [
    {
     "name": "stdout",
     "output_type": "stream",
     "text": [
      "1/1 [==============================] - 1s 791ms/step\n"
     ]
    }
   ],
   "source": [
    "dataset_total = pd.concat((train_df['FRAUD DECEPTION AND RELATED OFFENCES'], test_df['FRAUD DECEPTION AND RELATED OFFENCES']), axis = 0)\n",
    "inputs = dataset_total[len(dataset_total) - len(testing_set) - 3:].values\n",
    "inputs = inputs.reshape(-1,1)\n",
    "inputs = sc.transform(inputs)\n",
    "X_test = []\n",
    "y_test = []\n",
    "for i in range(3, 6):\n",
    "    X_test.append(inputs[i-3:i, 0])\n",
    "    y_test.append(inputs[i, 0])\n",
    "X_test = np.array(X_test)\n",
    "X_test = np.reshape(X_test, (X_test.shape[0], X_test.shape[1], 1))\n",
    "predicted = regressor.predict(X_test)\n",
    "predicted = sc.inverse_transform(predicted)"
   ]
  },
  {
   "cell_type": "code",
   "execution_count": 201,
   "id": "9c7c36d1",
   "metadata": {},
   "outputs": [],
   "source": [
    "predicted=np.trunc(predicted)"
   ]
  },
  {
   "cell_type": "code",
   "execution_count": 202,
   "id": "d25bf611",
   "metadata": {},
   "outputs": [
    {
     "data": {
      "text/plain": [
       "array([[509.],\n",
       "       [523.],\n",
       "       [512.]], dtype=float32)"
      ]
     },
     "execution_count": 202,
     "metadata": {},
     "output_type": "execute_result"
    }
   ],
   "source": [
    "predicted"
   ]
  },
  {
   "cell_type": "code",
   "execution_count": 203,
   "id": "1423055e",
   "metadata": {},
   "outputs": [
    {
     "data": {
      "text/plain": [
       "array([[549.],\n",
       "       [523.],\n",
       "       [499.]])"
      ]
     },
     "execution_count": 203,
     "metadata": {},
     "output_type": "execute_result"
    }
   ],
   "source": [
    "testing_set"
   ]
  },
  {
   "cell_type": "code",
   "execution_count": 204,
   "id": "a8bca87e",
   "metadata": {},
   "outputs": [
    {
     "data": {
      "image/png": "[encoded data removed]",
      "text/plain": [
       "<Figure size 640x480 with 1 Axes>"
      ]
     },
     "metadata": {},
     "output_type": "display_data"
    }
   ],
   "source": [
    "plt.plot(testing_set, color = 'red', label = 'Real')\n",
    "plt.plot(predicted, color = 'blue', label = 'Predicted')\n",
    "plt.title('Prediction')\n",
    "plt.xlabel('Time')\n",
    "plt.ylabel('Counts')\n",
    "plt.legend()\n",
    "plt.show()"
   ]
  },
  {
   "cell_type": "code",
   "execution_count": 205,
   "id": "2ea5e71d",
   "metadata": {},
   "outputs": [
    {
     "data": {
      "text/plain": [
       "(145, 1)"
      ]
     },
     "execution_count": 205,
     "metadata": {},
     "output_type": "execute_result"
    }
   ],
   "source": [
    "fulltest=np.concatenate((training_set,testing_set), axis=0)\n",
    "fullpredict=np.concatenate((training_set,predicted), axis=0)\n",
    "fullpredict.shape"
   ]
  },
  {
   "cell_type": "code",
   "execution_count": 209,
   "id": "7bc9a56a",
   "metadata": {},
   "outputs": [
    {
     "data": {
      "image/png": "[encoded data removed]",
      "text/plain": [
       "<Figure size 1600x500 with 1 Axes>"
      ]
     },
     "metadata": {},
     "output_type": "display_data"
    }
   ],
   "source": [
    "plt.figure(figsize=(16,5)) \n",
    "plt.plot(fullpredict, color = 'red', label = 'Predicted')\n",
    "plt.plot(fulltest, color = 'blue', label = 'Real')\n",
    "plt.title('Prediction')\n",
    "plt.xlabel('Time')\n",
    "plt.ylabel('Counts')\n",
    "plt.legend()\n",
    "plt.show()"
   ]
  },
  {
   "cell_type": "code",
   "execution_count": 223,
   "id": "c72911e5",
   "metadata": {},
   "outputs": [
    {
     "data": {
      "text/plain": [
       "array([[0.3724605 , 0.32957111, 0.17607223],\n",
       "       [0.32957111, 0.17607223, 0.11512415],\n",
       "       [0.17607223, 0.11512415, 0.1986456 ],\n",
       "       [0.11512415, 0.1986456 , 0.23702032],\n",
       "       [0.1986456 , 0.23702032, 0.19413093],\n",
       "       [0.23702032, 0.19413093, 0.11060948],\n",
       "       [0.19413093, 0.11060948, 0.18058691],\n",
       "       [0.11060948, 0.18058691, 0.08577878],\n",
       "       [0.18058691, 0.08577878, 0.16704289],\n",
       "       [0.08577878, 0.16704289, 0.11738149],\n",
       "       [0.16704289, 0.11738149, 0.12641084],\n",
       "       [0.11738149, 0.12641084, 0.06997743],\n",
       "       [0.12641084, 0.06997743, 0.16478555],\n",
       "       [0.06997743, 0.16478555, 0.09706546],\n",
       "       [0.16478555, 0.09706546, 0.1489842 ],\n",
       "       [0.09706546, 0.1489842 , 0.16704289],\n",
       "       [0.1489842 , 0.16704289, 0.05417607],\n",
       "       [0.16704289, 0.05417607, 0.07900677],\n",
       "       [0.05417607, 0.07900677, 0.1986456 ],\n",
       "       [0.07900677, 0.1986456 , 0.09255079],\n",
       "       [0.1986456 , 0.09255079, 0.13995485],\n",
       "       [0.09255079, 0.13995485, 0.        ],\n",
       "       [0.13995485, 0.        , 0.13995485],\n",
       "       [0.        , 0.13995485, 0.20316027],\n",
       "       [0.13995485, 0.20316027, 0.10158014],\n",
       "       [0.20316027, 0.10158014, 0.02934537],\n",
       "       [0.10158014, 0.02934537, 0.20090293],\n",
       "       [0.02934537, 0.20090293, 0.10609481],\n",
       "       [0.20090293, 0.10609481, 0.11738149],\n",
       "       [0.10609481, 0.11738149, 0.04288939],\n",
       "       [0.11738149, 0.04288939, 0.12866817],\n",
       "       [0.04288939, 0.12866817, 0.00902935],\n",
       "       [0.12866817, 0.00902935, 0.23476298],\n",
       "       [0.00902935, 0.23476298, 0.20541761],\n",
       "       [0.23476298, 0.20541761, 0.24379233],\n",
       "       [0.20541761, 0.24379233, 0.12641084],\n",
       "       [0.24379233, 0.12641084, 0.11286682],\n",
       "       [0.12641084, 0.11286682, 0.23927765],\n",
       "       [0.11286682, 0.23927765, 0.17155756],\n",
       "       [0.23927765, 0.17155756, 0.15124153],\n",
       "       [0.17155756, 0.15124153, 0.22573363],\n",
       "       [0.15124153, 0.22573363, 0.18058691],\n",
       "       [0.22573363, 0.18058691, 0.2234763 ],\n",
       "       [0.18058691, 0.2234763 , 0.10158014],\n",
       "       [0.2234763 , 0.10158014, 0.20090293],\n",
       "       [0.10158014, 0.20090293, 0.11738149],\n",
       "       [0.20090293, 0.11738149, 0.23476298],\n",
       "       [0.11738149, 0.23476298, 0.19413093],\n",
       "       [0.23476298, 0.19413093, 0.20090293],\n",
       "       [0.19413093, 0.20090293, 0.14672686],\n",
       "       [0.20090293, 0.14672686, 0.15801354],\n",
       "       [0.14672686, 0.15801354, 0.10609481],\n",
       "       [0.15801354, 0.10609481, 0.24153499],\n",
       "       [0.10609481, 0.24153499, 0.1241535 ],\n",
       "       [0.24153499, 0.1241535 , 0.21444695],\n",
       "       [0.1241535 , 0.21444695, 0.20316027],\n",
       "       [0.21444695, 0.20316027, 0.21670429],\n",
       "       [0.20316027, 0.21670429, 0.21218962],\n",
       "       [0.21670429, 0.21218962, 0.18284424],\n",
       "       [0.21218962, 0.18284424, 0.16027088],\n",
       "       [0.18284424, 0.16027088, 0.23250564],\n",
       "       [0.16027088, 0.23250564, 0.29119639],\n",
       "       [0.23250564, 0.29119639, 0.26636569],\n",
       "       [0.29119639, 0.26636569, 0.2731377 ],\n",
       "       [0.26636569, 0.2731377 , 0.25733634],\n",
       "       [0.2731377 , 0.25733634, 0.248307  ],\n",
       "       [0.25733634, 0.248307  , 0.19187359],\n",
       "       [0.248307  , 0.19187359, 0.07674944],\n",
       "       [0.19187359, 0.07674944, 0.19638826],\n",
       "       [0.07674944, 0.19638826, 0.21218962],\n",
       "       [0.19638826, 0.21218962, 0.11286682],\n",
       "       [0.21218962, 0.11286682, 0.32957111],\n",
       "       [0.11286682, 0.32957111, 0.24379233],\n",
       "       [0.32957111, 0.24379233, 0.16704289],\n",
       "       [0.24379233, 0.16704289, 0.18510158],\n",
       "       [0.16704289, 0.18510158, 0.21218962],\n",
       "       [0.18510158, 0.21218962, 0.20316027],\n",
       "       [0.21218962, 0.20316027, 0.10609481],\n",
       "       [0.20316027, 0.10609481, 0.16930023],\n",
       "       [0.10609481, 0.16930023, 0.06320542],\n",
       "       [0.16930023, 0.06320542, 0.20541761],\n",
       "       [0.06320542, 0.20541761, 0.28216704],\n",
       "       [0.20541761, 0.28216704, 0.29571106],\n",
       "       [0.28216704, 0.29571106, 0.34311512],\n",
       "       [0.29571106, 0.34311512, 0.13995485],\n",
       "       [0.34311512, 0.13995485, 0.25507901],\n",
       "       [0.13995485, 0.25507901, 0.30699774],\n",
       "       [0.25507901, 0.30699774, 0.29345372],\n",
       "       [0.30699774, 0.29345372, 0.30474041],\n",
       "       [0.29345372, 0.30474041, 0.35891648],\n",
       "       [0.30474041, 0.35891648, 0.23702032],\n",
       "       [0.35891648, 0.23702032, 0.20767494],\n",
       "       [0.23702032, 0.20767494, 0.39277652],\n",
       "       [0.20767494, 0.39277652, 0.29571106],\n",
       "       [0.39277652, 0.29571106, 0.35214447],\n",
       "       [0.29571106, 0.35214447, 0.42889391],\n",
       "       [0.35214447, 0.42889391, 0.38148984],\n",
       "       [0.42889391, 0.38148984, 0.31602709],\n",
       "       [0.38148984, 0.31602709, 0.49209932],\n",
       "       [0.31602709, 0.49209932, 0.38148984],\n",
       "       [0.49209932, 0.38148984, 0.60045147],\n",
       "       [0.38148984, 0.60045147, 0.503386  ],\n",
       "       [0.60045147, 0.503386  , 0.48306998],\n",
       "       [0.503386  , 0.48306998, 0.41309255],\n",
       "       [0.48306998, 0.41309255, 0.51693002],\n",
       "       [0.41309255, 0.51693002, 0.30925508],\n",
       "       [0.51693002, 0.30925508, 0.39954853],\n",
       "       [0.30925508, 0.39954853, 0.41534989],\n",
       "       [0.39954853, 0.41534989, 0.4785553 ],\n",
       "       [0.41534989, 0.4785553 , 0.46726862],\n",
       "       [0.4785553 , 0.46726862, 0.60045147],\n",
       "       [0.46726862, 0.60045147, 0.45598194],\n",
       "       [0.60045147, 0.45598194, 0.51015801],\n",
       "       [0.45598194, 0.51015801, 0.43566591],\n",
       "       [0.51015801, 0.43566591, 0.32731377],\n",
       "       [0.43566591, 0.32731377, 0.20993228],\n",
       "       [0.32731377, 0.20993228, 0.1986456 ],\n",
       "       [0.20993228, 0.1986456 , 0.20316027],\n",
       "       [0.1986456 , 0.20316027, 0.39503386],\n",
       "       [0.20316027, 0.39503386, 0.44469526],\n",
       "       [0.39503386, 0.44469526, 0.41760722],\n",
       "       [0.44469526, 0.41760722, 0.44018059],\n",
       "       [0.41760722, 0.44018059, 0.3972912 ],\n",
       "       [0.44018059, 0.3972912 , 0.56207675],\n",
       "       [0.3972912 , 0.56207675, 0.49887133],\n",
       "       [0.56207675, 0.49887133, 0.53273138],\n",
       "       [0.49887133, 0.53273138, 0.60045147],\n",
       "       [0.53273138, 0.60045147, 0.88713318],\n",
       "       [0.60045147, 0.88713318, 0.7020316 ],\n",
       "       [0.88713318, 0.7020316 , 0.56207675],\n",
       "       [0.7020316 , 0.56207675, 0.71331828],\n",
       "       [0.56207675, 0.71331828, 0.87810384],\n",
       "       [0.71331828, 0.87810384, 0.76072235],\n",
       "       [0.87810384, 0.76072235, 0.94808126],\n",
       "       [0.76072235, 0.94808126, 0.98645598],\n",
       "       [0.94808126, 0.98645598, 0.75395034],\n",
       "       [0.98645598, 0.75395034, 0.69525959],\n",
       "       [0.75395034, 0.69525959, 0.79006772],\n",
       "       [0.69525959, 0.79006772, 1.        ]])"
      ]
     },
     "execution_count": 223,
     "metadata": {},
     "output_type": "execute_result"
    }
   ],
   "source": [
    "X"
   ]
  },
  {
   "cell_type": "code",
   "execution_count": 224,
   "id": "3188e8ad",
   "metadata": {},
   "outputs": [],
   "source": [
    "X_ml=train_df.drop('FRAUD DECEPTION AND RELATED OFFENCES',axis=1)\n",
    "Y_ml=train_df['FRAUD DECEPTION AND RELATED OFFENCES']"
   ]
  },
  {
   "cell_type": "code",
   "execution_count": 226,
   "id": "6d1a8404",
   "metadata": {},
   "outputs": [],
   "source": [
    "X_test_ml = test_df.drop('FRAUD DECEPTION AND RELATED OFFENCES',axis=1)\n",
    "Y_test_ml = test_df['FRAUD DECEPTION AND RELATED OFFENCES']"
   ]
  },
  {
   "cell_type": "code",
   "execution_count": 231,
   "id": "376fa5b0",
   "metadata": {},
   "outputs": [
    {
     "data": {
      "text/plain": [
       "array([-2.37712388e+16, -2.47793286e+16, -2.31999555e+16])"
      ]
     },
     "execution_count": 231,
     "metadata": {},
     "output_type": "execute_result"
    }
   ],
   "source": [
    "\n",
    "from sklearn.linear_model import SGDRegressor\n",
    "\n",
    "est =SGDRegressor()\n",
    "est.fit(X_ml,Y_ml)\n",
    "est.predict(X_test_ml)"
   ]
  },
  {
   "cell_type": "code",
   "execution_count": null,
   "id": "31eb7c28",
   "metadata": {},
   "outputs": [],
   "source": []
  }
 ],
 "metadata": {
  "kernelspec": {
   "display_name": "Python 3 (ipykernel)",
   "language": "python",
   "name": "python3"
  },
  "language_info": {
   "codemirror_mode": {
    "name": "ipython",
    "version": 3
   },
   "file_extension": ".py",
   "mimetype": "text/x-python",
   "name": "python",
   "nbconvert_exporter": "python",
   "pygments_lexer": "ipython3",
   "version": "3.9.8"
  }
 },
 "nbformat": 4,
 "nbformat_minor": 5
}
