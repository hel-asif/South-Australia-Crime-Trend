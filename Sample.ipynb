{
 "cells": [
  {
   "cell_type": "code",
   "execution_count": 1,
   "id": "0edf9fa7",
   "metadata": {},
   "outputs": [],
   "source": [
    "import numpy as np\n",
    "import matplotlib.pyplot as plt\n",
    "import pandas as pd"
   ]
  },
  {
   "cell_type": "code",
   "execution_count": 2,
   "id": "5e30be02",
   "metadata": {},
   "outputs": [],
   "source": [
    "df = pd.read_csv('2021-22-data-sa-crime-q1-q4.csv')"
   ]
  },
  {
   "cell_type": "code",
   "execution_count": 3,
   "id": "82327665",
   "metadata": {},
   "outputs": [
    {
     "data": {
      "text/plain": [
       "Reported Date                  object\n",
       "Suburb - Incident              object\n",
       "Postcode - Incident            object\n",
       "Offence Level 1 Description    object\n",
       "Offence Level 2 Description    object\n",
       "Offence Level 3 Description    object\n",
       "Offence count                   int64\n",
       "dtype: object"
      ]
     },
     "execution_count": 3,
     "metadata": {},
     "output_type": "execute_result"
    }
   ],
   "source": [
    "df.dtypes"
   ]
  },
  {
   "cell_type": "code",
   "execution_count": 4,
   "id": "a5235236",
   "metadata": {},
   "outputs": [
    {
     "data": {
      "text/plain": [
       "Other theft                                    16642\n",
       "Other property damage and environmental        14938\n",
       "Serious Assault not resulting in injury         8989\n",
       "Theft from shop                                 8933\n",
       "Theft from motor vehicle                        8285\n",
       "SCT - Residence                                 5340\n",
       "Common Assault                                  4235\n",
       "Obtain benefit by deception                     3851\n",
       "SCT - Non Residence                             3388\n",
       "Theft/Illegal Use of MV                         3327\n",
       "Serious Assault resulting in injury             2812\n",
       "Other unlawful entry with intent                2625\n",
       "Graffiti                                        1398\n",
       "Receive or handle proceeds of crime             1028\n",
       "Property damage by fire or explosion             752\n",
       "Other fraud, deception and related offences      711\n",
       "Threatening behaviour                            619\n",
       "Other acts intended to cause injury              546\n",
       "Abduction, harassment and other offences         412\n",
       "Aggravated robbery                               391\n",
       "Aggravated sexual assault                        357\n",
       "Assault police                                   355\n",
       "Non-aggravated sexual assault                    254\n",
       "Non-assaultive sexual offences                   212\n",
       "Dangerous or negligent acts                      195\n",
       "Blackmail and extortion                          133\n",
       "Non-aggravated robbery                            76\n",
       "Other homicide and related offences               28\n",
       "Murder                                            11\n",
       "Name: Offence Level 3 Description, dtype: int64"
      ]
     },
     "execution_count": 4,
     "metadata": {},
     "output_type": "execute_result"
    }
   ],
   "source": [
    "df['Offence Level 3 Description'].value_counts()"
   ]
  },
  {
   "cell_type": "code",
   "execution_count": 7,
   "id": "e7e52f56",
   "metadata": {},
   "outputs": [],
   "source": [
    "df['Date'] = pd.to_datetime(df['Reported Date'],dayfirst=True)"
   ]
  },
  {
   "cell_type": "code",
   "execution_count": 8,
   "id": "433a70b5",
   "metadata": {},
   "outputs": [
    {
     "data": {
      "text/plain": [
       "0       2021-07-01\n",
       "1       2021-07-01\n",
       "2       2021-07-01\n",
       "3       2021-07-01\n",
       "4       2021-07-01\n",
       "           ...    \n",
       "90838   2022-06-30\n",
       "90839   2022-06-30\n",
       "90840   2022-06-30\n",
       "90841   2022-06-30\n",
       "90842   2022-06-30\n",
       "Name: Date, Length: 90843, dtype: datetime64[ns]"
      ]
     },
     "execution_count": 8,
     "metadata": {},
     "output_type": "execute_result"
    }
   ],
   "source": [
    "df['Date']"
   ]
  },
  {
   "cell_type": "code",
   "execution_count": 9,
   "id": "957542d5",
   "metadata": {},
   "outputs": [],
   "source": [
    "df['month'] = pd.to_datetime(df['Date']).dt.to_period('M')\n",
    "df['month_year'] = pd.DatetimeIndex(df['Date']).to_period('M')\n"
   ]
  },
  {
   "cell_type": "code",
   "execution_count": 11,
   "id": "7e600cd9",
   "metadata": {},
   "outputs": [
    {
     "data": {
      "text/plain": [
       "0        2021-07\n",
       "1        2021-07\n",
       "2        2021-07\n",
       "3        2021-07\n",
       "4        2021-07\n",
       "          ...   \n",
       "90838    2022-06\n",
       "90839    2022-06\n",
       "90840    2022-06\n",
       "90841    2022-06\n",
       "90842    2022-06\n",
       "Name: month, Length: 90843, dtype: period[M]"
      ]
     },
     "execution_count": 11,
     "metadata": {},
     "output_type": "execute_result"
    }
   ],
   "source": [
    "df['month']"
   ]
  },
  {
   "cell_type": "code",
   "execution_count": 12,
   "id": "0a5e35ce",
   "metadata": {},
   "outputs": [],
   "source": [
    "monthly_counts = df.groupby(['month', 'Offence Level 3 Description'])['Offence count'].sum()"
   ]
  },
  {
   "cell_type": "code",
   "execution_count": 13,
   "id": "fd759b43",
   "metadata": {},
   "outputs": [],
   "source": [
    "monthly_counts = monthly_counts.reset_index()\n",
    "monthly_counts = monthly_counts.rename(columns={'month': 'Month', 'Offence Level 3 Description': 'Offence', 'Offence count': 'Offence Count'})"
   ]
  },
  {
   "cell_type": "code",
   "execution_count": 14,
   "id": "38637434",
   "metadata": {},
   "outputs": [
    {
     "name": "stdout",
     "output_type": "stream",
     "text": [
      "       Month                                   Offence  Offence Count\n",
      "0    2021-07  Abduction, harassment and other offences             29\n",
      "1    2021-07                        Aggravated robbery             37\n",
      "2    2021-07                 Aggravated sexual assault             97\n",
      "3    2021-07                            Assault police             22\n",
      "4    2021-07                   Blackmail and extortion              6\n",
      "..       ...                                       ...            ...\n",
      "336  2022-06       Serious Assault resulting in injury            244\n",
      "337  2022-06                  Theft from motor vehicle            798\n",
      "338  2022-06                           Theft from shop           1190\n",
      "339  2022-06                   Theft/Illegal Use of MV            278\n",
      "340  2022-06                     Threatening behaviour             49\n",
      "\n",
      "[341 rows x 3 columns]\n"
     ]
    }
   ],
   "source": [
    "print(monthly_counts)\n"
   ]
  },
  {
   "cell_type": "code",
   "execution_count": 16,
   "id": "f6e54275",
   "metadata": {},
   "outputs": [
    {
     "data": {
      "text/plain": [
       "Abduction, harassment and other offences       12\n",
       "Aggravated robbery                             12\n",
       "Theft/Illegal Use of MV                        12\n",
       "Theft from shop                                12\n",
       "Theft from motor vehicle                       12\n",
       "Serious Assault resulting in injury            12\n",
       "Serious Assault not resulting in injury        12\n",
       "SCT - Residence                                12\n",
       "SCT - Non Residence                            12\n",
       "Receive or handle proceeds of crime            12\n",
       "Property damage by fire or explosion           12\n",
       "Other unlawful entry with intent               12\n",
       "Other theft                                    12\n",
       "Other property damage and environmental        12\n",
       "Other fraud, deception and related offences    12\n",
       "Other acts intended to cause injury            12\n",
       "Obtain benefit by deception                    12\n",
       "Non-assaultive sexual offences                 12\n",
       "Non-aggravated sexual assault                  12\n",
       "Non-aggravated robbery                         12\n",
       "Graffiti                                       12\n",
       "Dangerous or negligent acts                    12\n",
       "Common Assault                                 12\n",
       "Blackmail and extortion                        12\n",
       "Assault police                                 12\n",
       "Aggravated sexual assault                      12\n",
       "Threatening behaviour                          12\n",
       "Other homicide and related offences            10\n",
       "Murder                                          7\n",
       "Name: Offence, dtype: int64"
      ]
     },
     "execution_count": 16,
     "metadata": {},
     "output_type": "execute_result"
    }
   ],
   "source": [
    "monthly_counts['Offence'].value_counts()\n"
   ]
  },
  {
   "cell_type": "code",
   "execution_count": null,
   "id": "7df04c00",
   "metadata": {},
   "outputs": [],
   "source": []
  }
 ],
 "metadata": {
  "kernelspec": {
   "display_name": "Python 3 (ipykernel)",
   "language": "python",
   "name": "python3"
  },
  "language_info": {
   "codemirror_mode": {
    "name": "ipython",
    "version": 3
   },
   "file_extension": ".py",
   "mimetype": "text/x-python",
   "name": "python",
   "nbconvert_exporter": "python",
   "pygments_lexer": "ipython3",
   "version": "3.11.0"
  }
 },
 "nbformat": 4,
 "nbformat_minor": 5
}
