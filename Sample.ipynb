{
 "cells": [
  {
   "cell_type": "code",
   "execution_count": 22,
   "id": "0edf9fa7",
   "metadata": {},
   "outputs": [],
   "source": [
    "import numpy as np\n",
    "import matplotlib.pyplot as plt\n",
    "import pandas as pd"
   ]
  },
  {
   "cell_type": "code",
   "execution_count": 23,
   "id": "5e30be02",
   "metadata": {},
   "outputs": [],
   "source": [
    "df = pd.read_csv('2021-22-data-sa-crime-q1-q4.csv')"
   ]
  },
  {
   "cell_type": "code",
   "execution_count": 24,
   "id": "0b1cde7b",
   "metadata": {},
   "outputs": [
    {
     "data": {
      "text/plain": [
       "THEFT AND RELATED OFFENCES              38215\n",
       "PROPERTY DAMAGE AND ENVIRONMENTAL       17088\n",
       "ACTS INTENDED TO CAUSE INJURY           16937\n",
       "SERIOUS CRIMINAL TRESPASS               11353\n",
       "FRAUD DECEPTION AND RELATED OFFENCES     4562\n",
       "OTHER OFFENCES AGAINST THE PERSON        1226\n",
       "SEXUAL ASSAULT AND RELATED OFFENCES       823\n",
       "ROBBERY AND RELATED OFFENCES              600\n",
       "HOMICIDE AND RELATED OFFENCES              39\n",
       "Name: Offence Level 2 Description, dtype: int64"
      ]
     },
     "execution_count": 24,
     "metadata": {},
     "output_type": "execute_result"
    }
   ],
   "source": [
    "df['Offence Level 2 Description'].value_counts()"
   ]
  },
  {
   "cell_type": "code",
   "execution_count": 25,
   "id": "82327665",
   "metadata": {},
   "outputs": [
    {
     "data": {
      "text/plain": [
       "Reported Date                  object\n",
       "Suburb - Incident              object\n",
       "Postcode - Incident            object\n",
       "Offence Level 1 Description    object\n",
       "Offence Level 2 Description    object\n",
       "Offence Level 3 Description    object\n",
       "Offence count                   int64\n",
       "dtype: object"
      ]
     },
     "execution_count": 25,
     "metadata": {},
     "output_type": "execute_result"
    }
   ],
   "source": [
    "df.dtypes"
   ]
  },
  {
   "cell_type": "code",
   "execution_count": 26,
   "id": "e7e52f56",
   "metadata": {},
   "outputs": [],
   "source": [
    "df['Date'] = pd.to_datetime(df['Reported Date'],dayfirst=True)"
   ]
  },
  {
   "cell_type": "code",
   "execution_count": 27,
   "id": "433a70b5",
   "metadata": {},
   "outputs": [
    {
     "data": {
      "text/plain": [
       "0       2021-07-01\n",
       "1       2021-07-01\n",
       "2       2021-07-01\n",
       "3       2021-07-01\n",
       "4       2021-07-01\n",
       "           ...    \n",
       "90838   2022-06-30\n",
       "90839   2022-06-30\n",
       "90840   2022-06-30\n",
       "90841   2022-06-30\n",
       "90842   2022-06-30\n",
       "Name: Date, Length: 90843, dtype: datetime64[ns]"
      ]
     },
     "execution_count": 27,
     "metadata": {},
     "output_type": "execute_result"
    }
   ],
   "source": [
    "df['Date']"
   ]
  },
  {
   "cell_type": "code",
   "execution_count": 28,
   "id": "957542d5",
   "metadata": {},
   "outputs": [],
   "source": [
    "df['month'] = pd.to_datetime(df['Date']).dt.to_period('M')\n",
    "df['month_year'] = pd.DatetimeIndex(df['Date']).to_period('M')\n"
   ]
  },
  {
   "cell_type": "code",
   "execution_count": 29,
   "id": "7e600cd9",
   "metadata": {},
   "outputs": [
    {
     "data": {
      "text/plain": [
       "0        2021-07\n",
       "1        2021-07\n",
       "2        2021-07\n",
       "3        2021-07\n",
       "4        2021-07\n",
       "          ...   \n",
       "90838    2022-06\n",
       "90839    2022-06\n",
       "90840    2022-06\n",
       "90841    2022-06\n",
       "90842    2022-06\n",
       "Name: month, Length: 90843, dtype: period[M]"
      ]
     },
     "execution_count": 29,
     "metadata": {},
     "output_type": "execute_result"
    }
   ],
   "source": [
    "df['month']"
   ]
  },
  {
   "cell_type": "code",
   "execution_count": 30,
   "id": "0a5e35ce",
   "metadata": {},
   "outputs": [],
   "source": [
    "monthly_counts = df.groupby(['month', 'Offence Level 2 Description'])['Offence count'].sum()"
   ]
  },
  {
   "cell_type": "code",
   "execution_count": 31,
   "id": "fd759b43",
   "metadata": {},
   "outputs": [],
   "source": [
    "monthly_counts = monthly_counts.reset_index()\n",
    "monthly_counts = monthly_counts.rename(columns={'month': 'Month', 'Offence Level 2 Description': 'Offence', 'Offence count': 'Offence Count'})"
   ]
  },
  {
   "cell_type": "code",
   "execution_count": 32,
   "id": "38637434",
   "metadata": {},
   "outputs": [
    {
     "name": "stdout",
     "output_type": "stream",
     "text": [
      "       Month                               Offence  Offence Count\n",
      "0    2021-07         ACTS INTENDED TO CAUSE INJURY           1403\n",
      "1    2021-07  FRAUD DECEPTION AND RELATED OFFENCES            464\n",
      "2    2021-07         HOMICIDE AND RELATED OFFENCES              8\n",
      "3    2021-07     OTHER OFFENCES AGAINST THE PERSON            105\n",
      "4    2021-07     PROPERTY DAMAGE AND ENVIRONMENTAL           1579\n",
      "..       ...                                   ...            ...\n",
      "101  2022-06     PROPERTY DAMAGE AND ENVIRONMENTAL           1717\n",
      "102  2022-06          ROBBERY AND RELATED OFFENCES             77\n",
      "103  2022-06             SERIOUS CRIMINAL TRESPASS            937\n",
      "104  2022-06   SEXUAL ASSAULT AND RELATED OFFENCES            186\n",
      "105  2022-06            THEFT AND RELATED OFFENCES           4055\n",
      "\n",
      "[106 rows x 3 columns]\n"
     ]
    }
   ],
   "source": [
    "print(monthly_counts)\n"
   ]
  },
  {
   "cell_type": "code",
   "execution_count": 34,
   "id": "f6e54275",
   "metadata": {},
   "outputs": [
    {
     "data": {
      "text/plain": [
       "ACTS INTENDED TO CAUSE INJURY           12\n",
       "FRAUD DECEPTION AND RELATED OFFENCES    12\n",
       "OTHER OFFENCES AGAINST THE PERSON       12\n",
       "PROPERTY DAMAGE AND ENVIRONMENTAL       12\n",
       "ROBBERY AND RELATED OFFENCES            12\n",
       "SERIOUS CRIMINAL TRESPASS               12\n",
       "SEXUAL ASSAULT AND RELATED OFFENCES     12\n",
       "THEFT AND RELATED OFFENCES              12\n",
       "HOMICIDE AND RELATED OFFENCES           10\n",
       "Name: Offence, dtype: int64"
      ]
     },
     "execution_count": 34,
     "metadata": {},
     "output_type": "execute_result"
    }
   ],
   "source": [
    "monthly_counts['Offence'].value_counts()\n"
   ]
  },
  {
   "cell_type": "code",
   "execution_count": 35,
   "id": "7df04c00",
   "metadata": {},
   "outputs": [
    {
     "data": {
      "text/html": [
       "<div>\n",
       "<style scoped>\n",
       "    .dataframe tbody tr th:only-of-type {\n",
       "        vertical-align: middle;\n",
       "    }\n",
       "\n",
       "    .dataframe tbody tr th {\n",
       "        vertical-align: top;\n",
       "    }\n",
       "\n",
       "    .dataframe thead th {\n",
       "        text-align: right;\n",
       "    }\n",
       "</style>\n",
       "<table border=\"1\" class=\"dataframe\">\n",
       "  <thead>\n",
       "    <tr style=\"text-align: right;\">\n",
       "      <th></th>\n",
       "      <th>Month</th>\n",
       "      <th>Offence</th>\n",
       "      <th>Offence Count</th>\n",
       "    </tr>\n",
       "  </thead>\n",
       "  <tbody>\n",
       "    <tr>\n",
       "      <th>0</th>\n",
       "      <td>2021-07</td>\n",
       "      <td>ACTS INTENDED TO CAUSE INJURY</td>\n",
       "      <td>1403</td>\n",
       "    </tr>\n",
       "    <tr>\n",
       "      <th>1</th>\n",
       "      <td>2021-07</td>\n",
       "      <td>FRAUD DECEPTION AND RELATED OFFENCES</td>\n",
       "      <td>464</td>\n",
       "    </tr>\n",
       "    <tr>\n",
       "      <th>2</th>\n",
       "      <td>2021-07</td>\n",
       "      <td>HOMICIDE AND RELATED OFFENCES</td>\n",
       "      <td>8</td>\n",
       "    </tr>\n",
       "    <tr>\n",
       "      <th>3</th>\n",
       "      <td>2021-07</td>\n",
       "      <td>OTHER OFFENCES AGAINST THE PERSON</td>\n",
       "      <td>105</td>\n",
       "    </tr>\n",
       "    <tr>\n",
       "      <th>4</th>\n",
       "      <td>2021-07</td>\n",
       "      <td>PROPERTY DAMAGE AND ENVIRONMENTAL</td>\n",
       "      <td>1579</td>\n",
       "    </tr>\n",
       "    <tr>\n",
       "      <th>5</th>\n",
       "      <td>2021-07</td>\n",
       "      <td>ROBBERY AND RELATED OFFENCES</td>\n",
       "      <td>53</td>\n",
       "    </tr>\n",
       "    <tr>\n",
       "      <th>6</th>\n",
       "      <td>2021-07</td>\n",
       "      <td>SERIOUS CRIMINAL TRESPASS</td>\n",
       "      <td>1008</td>\n",
       "    </tr>\n",
       "    <tr>\n",
       "      <th>7</th>\n",
       "      <td>2021-07</td>\n",
       "      <td>SEXUAL ASSAULT AND RELATED OFFENCES</td>\n",
       "      <td>148</td>\n",
       "    </tr>\n",
       "    <tr>\n",
       "      <th>8</th>\n",
       "      <td>2021-07</td>\n",
       "      <td>THEFT AND RELATED OFFENCES</td>\n",
       "      <td>3686</td>\n",
       "    </tr>\n",
       "    <tr>\n",
       "      <th>9</th>\n",
       "      <td>2021-08</td>\n",
       "      <td>ACTS INTENDED TO CAUSE INJURY</td>\n",
       "      <td>1627</td>\n",
       "    </tr>\n",
       "    <tr>\n",
       "      <th>10</th>\n",
       "      <td>2021-08</td>\n",
       "      <td>FRAUD DECEPTION AND RELATED OFFENCES</td>\n",
       "      <td>537</td>\n",
       "    </tr>\n",
       "    <tr>\n",
       "      <th>11</th>\n",
       "      <td>2021-08</td>\n",
       "      <td>HOMICIDE AND RELATED OFFENCES</td>\n",
       "      <td>4</td>\n",
       "    </tr>\n",
       "    <tr>\n",
       "      <th>12</th>\n",
       "      <td>2021-08</td>\n",
       "      <td>OTHER OFFENCES AGAINST THE PERSON</td>\n",
       "      <td>134</td>\n",
       "    </tr>\n",
       "    <tr>\n",
       "      <th>13</th>\n",
       "      <td>2021-08</td>\n",
       "      <td>PROPERTY DAMAGE AND ENVIRONMENTAL</td>\n",
       "      <td>1803</td>\n",
       "    </tr>\n",
       "    <tr>\n",
       "      <th>14</th>\n",
       "      <td>2021-08</td>\n",
       "      <td>ROBBERY AND RELATED OFFENCES</td>\n",
       "      <td>48</td>\n",
       "    </tr>\n",
       "  </tbody>\n",
       "</table>\n",
       "</div>"
      ],
      "text/plain": [
       "      Month                               Offence  Offence Count\n",
       "0   2021-07         ACTS INTENDED TO CAUSE INJURY           1403\n",
       "1   2021-07  FRAUD DECEPTION AND RELATED OFFENCES            464\n",
       "2   2021-07         HOMICIDE AND RELATED OFFENCES              8\n",
       "3   2021-07     OTHER OFFENCES AGAINST THE PERSON            105\n",
       "4   2021-07     PROPERTY DAMAGE AND ENVIRONMENTAL           1579\n",
       "5   2021-07          ROBBERY AND RELATED OFFENCES             53\n",
       "6   2021-07             SERIOUS CRIMINAL TRESPASS           1008\n",
       "7   2021-07   SEXUAL ASSAULT AND RELATED OFFENCES            148\n",
       "8   2021-07            THEFT AND RELATED OFFENCES           3686\n",
       "9   2021-08         ACTS INTENDED TO CAUSE INJURY           1627\n",
       "10  2021-08  FRAUD DECEPTION AND RELATED OFFENCES            537\n",
       "11  2021-08         HOMICIDE AND RELATED OFFENCES              4\n",
       "12  2021-08     OTHER OFFENCES AGAINST THE PERSON            134\n",
       "13  2021-08     PROPERTY DAMAGE AND ENVIRONMENTAL           1803\n",
       "14  2021-08          ROBBERY AND RELATED OFFENCES             48"
      ]
     },
     "execution_count": 35,
     "metadata": {},
     "output_type": "execute_result"
    }
   ],
   "source": [
    "monthly_counts.head(15)"
   ]
  },
  {
   "cell_type": "code",
   "execution_count": 36,
   "id": "e19ff307",
   "metadata": {},
   "outputs": [],
   "source": [
    "pivot_df = monthly_counts.pivot_table(index='Month', columns='Offence', values='Offence Count', aggfunc='sum')\n",
    "pivot_df = pivot_df.fillna(0)\n",
    "pivot_df.reset_index(inplace=True)"
   ]
  },
  {
   "cell_type": "code",
   "execution_count": 37,
   "id": "71ebf96d",
   "metadata": {},
   "outputs": [
    {
     "data": {
      "text/html": [
       "<div>\n",
       "<style scoped>\n",
       "    .dataframe tbody tr th:only-of-type {\n",
       "        vertical-align: middle;\n",
       "    }\n",
       "\n",
       "    .dataframe tbody tr th {\n",
       "        vertical-align: top;\n",
       "    }\n",
       "\n",
       "    .dataframe thead th {\n",
       "        text-align: right;\n",
       "    }\n",
       "</style>\n",
       "<table border=\"1\" class=\"dataframe\">\n",
       "  <thead>\n",
       "    <tr style=\"text-align: right;\">\n",
       "      <th>Offence</th>\n",
       "      <th>Month</th>\n",
       "      <th>ACTS INTENDED TO CAUSE INJURY</th>\n",
       "      <th>FRAUD DECEPTION AND RELATED OFFENCES</th>\n",
       "      <th>HOMICIDE AND RELATED OFFENCES</th>\n",
       "      <th>OTHER OFFENCES AGAINST THE PERSON</th>\n",
       "      <th>PROPERTY DAMAGE AND ENVIRONMENTAL</th>\n",
       "      <th>ROBBERY AND RELATED OFFENCES</th>\n",
       "      <th>SERIOUS CRIMINAL TRESPASS</th>\n",
       "      <th>SEXUAL ASSAULT AND RELATED OFFENCES</th>\n",
       "      <th>THEFT AND RELATED OFFENCES</th>\n",
       "    </tr>\n",
       "  </thead>\n",
       "  <tbody>\n",
       "    <tr>\n",
       "      <th>0</th>\n",
       "      <td>2021-07</td>\n",
       "      <td>1403.0</td>\n",
       "      <td>464.0</td>\n",
       "      <td>8.0</td>\n",
       "      <td>105.0</td>\n",
       "      <td>1579.0</td>\n",
       "      <td>53.0</td>\n",
       "      <td>1008.0</td>\n",
       "      <td>148.0</td>\n",
       "      <td>3686.0</td>\n",
       "    </tr>\n",
       "    <tr>\n",
       "      <th>1</th>\n",
       "      <td>2021-08</td>\n",
       "      <td>1627.0</td>\n",
       "      <td>537.0</td>\n",
       "      <td>4.0</td>\n",
       "      <td>134.0</td>\n",
       "      <td>1803.0</td>\n",
       "      <td>48.0</td>\n",
       "      <td>1110.0</td>\n",
       "      <td>190.0</td>\n",
       "      <td>3960.0</td>\n",
       "    </tr>\n",
       "    <tr>\n",
       "      <th>2</th>\n",
       "      <td>2021-09</td>\n",
       "      <td>1644.0</td>\n",
       "      <td>485.0</td>\n",
       "      <td>3.0</td>\n",
       "      <td>118.0</td>\n",
       "      <td>1713.0</td>\n",
       "      <td>58.0</td>\n",
       "      <td>1163.0</td>\n",
       "      <td>210.0</td>\n",
       "      <td>4016.0</td>\n",
       "    </tr>\n",
       "    <tr>\n",
       "      <th>3</th>\n",
       "      <td>2021-10</td>\n",
       "      <td>1642.0</td>\n",
       "      <td>568.0</td>\n",
       "      <td>2.0</td>\n",
       "      <td>114.0</td>\n",
       "      <td>1819.0</td>\n",
       "      <td>60.0</td>\n",
       "      <td>1141.0</td>\n",
       "      <td>177.0</td>\n",
       "      <td>4141.0</td>\n",
       "    </tr>\n",
       "    <tr>\n",
       "      <th>4</th>\n",
       "      <td>2021-11</td>\n",
       "      <td>1743.0</td>\n",
       "      <td>585.0</td>\n",
       "      <td>2.0</td>\n",
       "      <td>109.0</td>\n",
       "      <td>1782.0</td>\n",
       "      <td>62.0</td>\n",
       "      <td>1163.0</td>\n",
       "      <td>190.0</td>\n",
       "      <td>4089.0</td>\n",
       "    </tr>\n",
       "    <tr>\n",
       "      <th>5</th>\n",
       "      <td>2021-12</td>\n",
       "      <td>1787.0</td>\n",
       "      <td>482.0</td>\n",
       "      <td>7.0</td>\n",
       "      <td>106.0</td>\n",
       "      <td>1949.0</td>\n",
       "      <td>59.0</td>\n",
       "      <td>1044.0</td>\n",
       "      <td>161.0</td>\n",
       "      <td>3990.0</td>\n",
       "    </tr>\n",
       "    <tr>\n",
       "      <th>6</th>\n",
       "      <td>2022-01</td>\n",
       "      <td>1678.0</td>\n",
       "      <td>456.0</td>\n",
       "      <td>2.0</td>\n",
       "      <td>89.0</td>\n",
       "      <td>1894.0</td>\n",
       "      <td>49.0</td>\n",
       "      <td>1044.0</td>\n",
       "      <td>158.0</td>\n",
       "      <td>3926.0</td>\n",
       "    </tr>\n",
       "    <tr>\n",
       "      <th>7</th>\n",
       "      <td>2022-02</td>\n",
       "      <td>1665.0</td>\n",
       "      <td>498.0</td>\n",
       "      <td>0.0</td>\n",
       "      <td>97.0</td>\n",
       "      <td>1714.0</td>\n",
       "      <td>69.0</td>\n",
       "      <td>925.0</td>\n",
       "      <td>184.0</td>\n",
       "      <td>3823.0</td>\n",
       "    </tr>\n",
       "    <tr>\n",
       "      <th>8</th>\n",
       "      <td>2022-03</td>\n",
       "      <td>1812.0</td>\n",
       "      <td>591.0</td>\n",
       "      <td>5.0</td>\n",
       "      <td>145.0</td>\n",
       "      <td>1750.0</td>\n",
       "      <td>34.0</td>\n",
       "      <td>1032.0</td>\n",
       "      <td>198.0</td>\n",
       "      <td>4402.0</td>\n",
       "    </tr>\n",
       "    <tr>\n",
       "      <th>9</th>\n",
       "      <td>2022-04</td>\n",
       "      <td>1578.0</td>\n",
       "      <td>526.0</td>\n",
       "      <td>5.0</td>\n",
       "      <td>129.0</td>\n",
       "      <td>1643.0</td>\n",
       "      <td>52.0</td>\n",
       "      <td>953.0</td>\n",
       "      <td>181.0</td>\n",
       "      <td>3727.0</td>\n",
       "    </tr>\n",
       "    <tr>\n",
       "      <th>10</th>\n",
       "      <td>2022-05</td>\n",
       "      <td>1661.0</td>\n",
       "      <td>520.0</td>\n",
       "      <td>3.0</td>\n",
       "      <td>122.0</td>\n",
       "      <td>1698.0</td>\n",
       "      <td>55.0</td>\n",
       "      <td>1013.0</td>\n",
       "      <td>140.0</td>\n",
       "      <td>4100.0</td>\n",
       "    </tr>\n",
       "    <tr>\n",
       "      <th>11</th>\n",
       "      <td>2022-06</td>\n",
       "      <td>1551.0</td>\n",
       "      <td>463.0</td>\n",
       "      <td>0.0</td>\n",
       "      <td>106.0</td>\n",
       "      <td>1717.0</td>\n",
       "      <td>77.0</td>\n",
       "      <td>937.0</td>\n",
       "      <td>186.0</td>\n",
       "      <td>4055.0</td>\n",
       "    </tr>\n",
       "  </tbody>\n",
       "</table>\n",
       "</div>"
      ],
      "text/plain": [
       "Offence    Month  ACTS INTENDED TO CAUSE INJURY  \\\n",
       "0        2021-07                         1403.0   \n",
       "1        2021-08                         1627.0   \n",
       "2        2021-09                         1644.0   \n",
       "3        2021-10                         1642.0   \n",
       "4        2021-11                         1743.0   \n",
       "5        2021-12                         1787.0   \n",
       "6        2022-01                         1678.0   \n",
       "7        2022-02                         1665.0   \n",
       "8        2022-03                         1812.0   \n",
       "9        2022-04                         1578.0   \n",
       "10       2022-05                         1661.0   \n",
       "11       2022-06                         1551.0   \n",
       "\n",
       "Offence  FRAUD DECEPTION AND RELATED OFFENCES  HOMICIDE AND RELATED OFFENCES  \\\n",
       "0                                       464.0                            8.0   \n",
       "1                                       537.0                            4.0   \n",
       "2                                       485.0                            3.0   \n",
       "3                                       568.0                            2.0   \n",
       "4                                       585.0                            2.0   \n",
       "5                                       482.0                            7.0   \n",
       "6                                       456.0                            2.0   \n",
       "7                                       498.0                            0.0   \n",
       "8                                       591.0                            5.0   \n",
       "9                                       526.0                            5.0   \n",
       "10                                      520.0                            3.0   \n",
       "11                                      463.0                            0.0   \n",
       "\n",
       "Offence  OTHER OFFENCES AGAINST THE PERSON  PROPERTY DAMAGE AND ENVIRONMENTAL  \\\n",
       "0                                    105.0                             1579.0   \n",
       "1                                    134.0                             1803.0   \n",
       "2                                    118.0                             1713.0   \n",
       "3                                    114.0                             1819.0   \n",
       "4                                    109.0                             1782.0   \n",
       "5                                    106.0                             1949.0   \n",
       "6                                     89.0                             1894.0   \n",
       "7                                     97.0                             1714.0   \n",
       "8                                    145.0                             1750.0   \n",
       "9                                    129.0                             1643.0   \n",
       "10                                   122.0                             1698.0   \n",
       "11                                   106.0                             1717.0   \n",
       "\n",
       "Offence  ROBBERY AND RELATED OFFENCES  SERIOUS CRIMINAL TRESPASS  \\\n",
       "0                                53.0                     1008.0   \n",
       "1                                48.0                     1110.0   \n",
       "2                                58.0                     1163.0   \n",
       "3                                60.0                     1141.0   \n",
       "4                                62.0                     1163.0   \n",
       "5                                59.0                     1044.0   \n",
       "6                                49.0                     1044.0   \n",
       "7                                69.0                      925.0   \n",
       "8                                34.0                     1032.0   \n",
       "9                                52.0                      953.0   \n",
       "10                               55.0                     1013.0   \n",
       "11                               77.0                      937.0   \n",
       "\n",
       "Offence  SEXUAL ASSAULT AND RELATED OFFENCES  THEFT AND RELATED OFFENCES  \n",
       "0                                      148.0                      3686.0  \n",
       "1                                      190.0                      3960.0  \n",
       "2                                      210.0                      4016.0  \n",
       "3                                      177.0                      4141.0  \n",
       "4                                      190.0                      4089.0  \n",
       "5                                      161.0                      3990.0  \n",
       "6                                      158.0                      3926.0  \n",
       "7                                      184.0                      3823.0  \n",
       "8                                      198.0                      4402.0  \n",
       "9                                      181.0                      3727.0  \n",
       "10                                     140.0                      4100.0  \n",
       "11                                     186.0                      4055.0  "
      ]
     },
     "execution_count": 37,
     "metadata": {},
     "output_type": "execute_result"
    }
   ],
   "source": [
    "pivot_df.head(12)"
   ]
  },
  {
   "cell_type": "code",
   "execution_count": 38,
   "id": "dbbac681",
   "metadata": {},
   "outputs": [
    {
     "data": {
      "text/plain": [
       "<Figure size 640x480 with 0 Axes>"
      ]
     },
     "metadata": {},
     "output_type": "display_data"
    },
    {
     "data": {
      "image/png": "[encoded data removed]",
      "text/plain": [
       "<Figure size 1600x500 with 1 Axes>"
      ]
     },
     "metadata": {},
     "output_type": "display_data"
    }
   ],
   "source": [
    "plt.figure()\n",
    "pivot_df.plot(x=\"Month\",y=['ROBBERY AND RELATED OFFENCES'],figsize=(16, 5))\n",
    "plt.title('Theft from shop')\n",
    "plt.show()\n"
   ]
  },
  {
   "cell_type": "code",
   "execution_count": 41,
   "id": "ce0de791",
   "metadata": {},
   "outputs": [
    {
     "data": {
      "text/html": [
       "<div>\n",
       "<style scoped>\n",
       "    .dataframe tbody tr th:only-of-type {\n",
       "        vertical-align: middle;\n",
       "    }\n",
       "\n",
       "    .dataframe tbody tr th {\n",
       "        vertical-align: top;\n",
       "    }\n",
       "\n",
       "    .dataframe thead th {\n",
       "        text-align: right;\n",
       "    }\n",
       "</style>\n",
       "<table border=\"1\" class=\"dataframe\">\n",
       "  <thead>\n",
       "    <tr style=\"text-align: right;\">\n",
       "      <th>Offence</th>\n",
       "      <th>ACTS INTENDED TO CAUSE INJURY</th>\n",
       "      <th>FRAUD DECEPTION AND RELATED OFFENCES</th>\n",
       "      <th>HOMICIDE AND RELATED OFFENCES</th>\n",
       "      <th>OTHER OFFENCES AGAINST THE PERSON</th>\n",
       "      <th>PROPERTY DAMAGE AND ENVIRONMENTAL</th>\n",
       "      <th>ROBBERY AND RELATED OFFENCES</th>\n",
       "      <th>SERIOUS CRIMINAL TRESPASS</th>\n",
       "      <th>SEXUAL ASSAULT AND RELATED OFFENCES</th>\n",
       "      <th>THEFT AND RELATED OFFENCES</th>\n",
       "    </tr>\n",
       "  </thead>\n",
       "  <tbody>\n",
       "    <tr>\n",
       "      <th>count</th>\n",
       "      <td>12.000000</td>\n",
       "      <td>12.000000</td>\n",
       "      <td>12.000000</td>\n",
       "      <td>12.000000</td>\n",
       "      <td>12.000000</td>\n",
       "      <td>12.000000</td>\n",
       "      <td>12.000000</td>\n",
       "      <td>12.000000</td>\n",
       "      <td>12.000000</td>\n",
       "    </tr>\n",
       "    <tr>\n",
       "      <th>mean</th>\n",
       "      <td>1649.250000</td>\n",
       "      <td>514.583333</td>\n",
       "      <td>3.416667</td>\n",
       "      <td>114.500000</td>\n",
       "      <td>1755.083333</td>\n",
       "      <td>56.333333</td>\n",
       "      <td>1044.416667</td>\n",
       "      <td>176.916667</td>\n",
       "      <td>3992.916667</td>\n",
       "    </tr>\n",
       "    <tr>\n",
       "      <th>std</th>\n",
       "      <td>109.298694</td>\n",
       "      <td>47.841516</td>\n",
       "      <td>2.503028</td>\n",
       "      <td>15.985789</td>\n",
       "      <td>102.588727</td>\n",
       "      <td>10.857200</td>\n",
       "      <td>84.410747</td>\n",
       "      <td>20.978163</td>\n",
       "      <td>193.934130</td>\n",
       "    </tr>\n",
       "    <tr>\n",
       "      <th>min</th>\n",
       "      <td>1403.000000</td>\n",
       "      <td>456.000000</td>\n",
       "      <td>0.000000</td>\n",
       "      <td>89.000000</td>\n",
       "      <td>1579.000000</td>\n",
       "      <td>34.000000</td>\n",
       "      <td>925.000000</td>\n",
       "      <td>140.000000</td>\n",
       "      <td>3686.000000</td>\n",
       "    </tr>\n",
       "    <tr>\n",
       "      <th>25%</th>\n",
       "      <td>1614.750000</td>\n",
       "      <td>477.500000</td>\n",
       "      <td>2.000000</td>\n",
       "      <td>105.750000</td>\n",
       "      <td>1709.250000</td>\n",
       "      <td>51.250000</td>\n",
       "      <td>994.250000</td>\n",
       "      <td>160.250000</td>\n",
       "      <td>3900.250000</td>\n",
       "    </tr>\n",
       "    <tr>\n",
       "      <th>50%</th>\n",
       "      <td>1652.500000</td>\n",
       "      <td>509.000000</td>\n",
       "      <td>3.000000</td>\n",
       "      <td>111.500000</td>\n",
       "      <td>1733.500000</td>\n",
       "      <td>56.500000</td>\n",
       "      <td>1038.000000</td>\n",
       "      <td>182.500000</td>\n",
       "      <td>4003.000000</td>\n",
       "    </tr>\n",
       "    <tr>\n",
       "      <th>75%</th>\n",
       "      <td>1694.250000</td>\n",
       "      <td>544.750000</td>\n",
       "      <td>5.000000</td>\n",
       "      <td>123.750000</td>\n",
       "      <td>1807.000000</td>\n",
       "      <td>60.500000</td>\n",
       "      <td>1117.750000</td>\n",
       "      <td>190.000000</td>\n",
       "      <td>4091.750000</td>\n",
       "    </tr>\n",
       "    <tr>\n",
       "      <th>max</th>\n",
       "      <td>1812.000000</td>\n",
       "      <td>591.000000</td>\n",
       "      <td>8.000000</td>\n",
       "      <td>145.000000</td>\n",
       "      <td>1949.000000</td>\n",
       "      <td>77.000000</td>\n",
       "      <td>1163.000000</td>\n",
       "      <td>210.000000</td>\n",
       "      <td>4402.000000</td>\n",
       "    </tr>\n",
       "  </tbody>\n",
       "</table>\n",
       "</div>"
      ],
      "text/plain": [
       "Offence  ACTS INTENDED TO CAUSE INJURY  FRAUD DECEPTION AND RELATED OFFENCES  \\\n",
       "count                        12.000000                             12.000000   \n",
       "mean                       1649.250000                            514.583333   \n",
       "std                         109.298694                             47.841516   \n",
       "min                        1403.000000                            456.000000   \n",
       "25%                        1614.750000                            477.500000   \n",
       "50%                        1652.500000                            509.000000   \n",
       "75%                        1694.250000                            544.750000   \n",
       "max                        1812.000000                            591.000000   \n",
       "\n",
       "Offence  HOMICIDE AND RELATED OFFENCES  OTHER OFFENCES AGAINST THE PERSON  \\\n",
       "count                        12.000000                          12.000000   \n",
       "mean                          3.416667                         114.500000   \n",
       "std                           2.503028                          15.985789   \n",
       "min                           0.000000                          89.000000   \n",
       "25%                           2.000000                         105.750000   \n",
       "50%                           3.000000                         111.500000   \n",
       "75%                           5.000000                         123.750000   \n",
       "max                           8.000000                         145.000000   \n",
       "\n",
       "Offence  PROPERTY DAMAGE AND ENVIRONMENTAL  ROBBERY AND RELATED OFFENCES  \\\n",
       "count                            12.000000                     12.000000   \n",
       "mean                           1755.083333                     56.333333   \n",
       "std                             102.588727                     10.857200   \n",
       "min                            1579.000000                     34.000000   \n",
       "25%                            1709.250000                     51.250000   \n",
       "50%                            1733.500000                     56.500000   \n",
       "75%                            1807.000000                     60.500000   \n",
       "max                            1949.000000                     77.000000   \n",
       "\n",
       "Offence  SERIOUS CRIMINAL TRESPASS  SEXUAL ASSAULT AND RELATED OFFENCES  \\\n",
       "count                    12.000000                            12.000000   \n",
       "mean                   1044.416667                           176.916667   \n",
       "std                      84.410747                            20.978163   \n",
       "min                     925.000000                           140.000000   \n",
       "25%                     994.250000                           160.250000   \n",
       "50%                    1038.000000                           182.500000   \n",
       "75%                    1117.750000                           190.000000   \n",
       "max                    1163.000000                           210.000000   \n",
       "\n",
       "Offence  THEFT AND RELATED OFFENCES  \n",
       "count                     12.000000  \n",
       "mean                    3992.916667  \n",
       "std                      193.934130  \n",
       "min                     3686.000000  \n",
       "25%                     3900.250000  \n",
       "50%                     4003.000000  \n",
       "75%                     4091.750000  \n",
       "max                     4402.000000  "
      ]
     },
     "execution_count": 41,
     "metadata": {},
     "output_type": "execute_result"
    }
   ],
   "source": [
    "pivot_df.describe()"
   ]
  },
  {
   "cell_type": "code",
   "execution_count": 42,
   "id": "a7da3e2c",
   "metadata": {},
   "outputs": [],
   "source": [
    "rowsum = pivot_df.iloc[:,1:].sum(axis=0)\n",
    "colsum = pivot_df.iloc[:,1:].sum(axis=1)\n"
   ]
  },
  {
   "cell_type": "code",
   "execution_count": 43,
   "id": "bfe0b9c8",
   "metadata": {},
   "outputs": [
    {
     "data": {
      "text/plain": [
       "111689.0"
      ]
     },
     "execution_count": 43,
     "metadata": {},
     "output_type": "execute_result"
    }
   ],
   "source": [
    "rowsum.sum()"
   ]
  },
  {
   "cell_type": "code",
   "execution_count": 44,
   "id": "925d4f56",
   "metadata": {},
   "outputs": [
    {
     "data": {
      "text/plain": [
       "111689"
      ]
     },
     "execution_count": 44,
     "metadata": {},
     "output_type": "execute_result"
    }
   ],
   "source": [
    "df['Offence count'].sum()"
   ]
  },
  {
   "cell_type": "code",
   "execution_count": 46,
   "id": "40ccbcf5",
   "metadata": {},
   "outputs": [
    {
     "data": {
      "text/plain": [
       "10"
      ]
     },
     "execution_count": 46,
     "metadata": {},
     "output_type": "execute_result"
    }
   ],
   "source": [
    "amount_of_features = len(pivot_df.columns)\n",
    "amount_of_features"
   ]
  },
  {
   "cell_type": "code",
   "execution_count": null,
   "id": "7b332fe4",
   "metadata": {},
   "outputs": [],
   "source": []
  }
 ],
 "metadata": {
  "kernelspec": {
   "display_name": "Python 3 (ipykernel)",
   "language": "python",
   "name": "python3"
  },
  "language_info": {
   "codemirror_mode": {
    "name": "ipython",
    "version": 3
   },
   "file_extension": ".py",
   "mimetype": "text/x-python",
   "name": "python",
   "nbconvert_exporter": "python",
   "pygments_lexer": "ipython3",
   "version": "3.9.8"
  }
 },
 "nbformat": 4,
 "nbformat_minor": 5
}
